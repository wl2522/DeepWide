{
 "cells": [
  {
   "cell_type": "code",
   "execution_count": 1,
   "metadata": {
    "_cell_guid": "3be9d3ad-67e9-4b0b-8c00-a02423ec36a5",
    "_uuid": "1ee3671ecaa16e57d5b85b222ea5240d58e158b9",
    "collapsed": false,
    "scrolled": true
   },
   "outputs": [
    {
     "name": "stdout",
     "output_type": "stream",
     "text": [
      "members.csv\n",
      "sample_submission.csv\n",
      "song_extra_info.csv\n",
      "songs.csv\n",
      "test.csv\n",
      "train.csv\n",
      "\n"
     ]
    }
   ],
   "source": [
    "# This Python 3 environment comes with many helpful analytics libraries installed\n",
    "# It is defined by the kaggle/python docker image: https://github.com/kaggle/docker-python\n",
    "# For example, here's several helpful packages to load in \n",
    "\n",
    "import numpy as np # linear algebra\n",
    "import pandas as pd # data processing, CSV file I/O (e.g. pd.read_csv)\n",
    "\n",
    "# Input data files are available in the \"../input/\" directory.\n",
    "# For example, running this (by clicking run or pressing Shift+Enter) will list the files in the input directory\n",
    "import matplotlib.pyplot as plt \n",
    "%matplotlib inline\n",
    "from subprocess import check_output\n",
    "print(check_output([\"ls\", \"input\"]).decode(\"utf8\"))\n",
    "\n",
    "# Any results you write to the current directory are saved as output."
   ]
  },
  {
   "cell_type": "code",
   "execution_count": 2,
   "metadata": {
    "_cell_guid": "b4058c60-f3c6-4b69-b3a3-fadc5c11609b",
    "_uuid": "1b9011f635913ffc34f16e970fc7863c73b05150",
    "collapsed": true
   },
   "outputs": [],
   "source": [
    "df_train = pd.read_csv(\"input/train.csv\")"
   ]
  },
  {
   "cell_type": "code",
   "execution_count": 3,
   "metadata": {
    "collapsed": false
   },
   "outputs": [
    {
     "name": "stdout",
     "output_type": "stream",
     "text": [
      "1\n"
     ]
    }
   ],
   "source": [
    "print(1)"
   ]
  },
  {
   "cell_type": "code",
   "execution_count": 4,
   "metadata": {
    "_cell_guid": "ac4e7a28-2d86-4652-9282-74d7fe054270",
    "_uuid": "3de12a3298a4ea9259e41f97b84ef31f90230d71",
    "collapsed": true
   },
   "outputs": [],
   "source": [
    "df_songs = pd.read_csv(\"input/songs.csv\")"
   ]
  },
  {
   "cell_type": "code",
   "execution_count": 5,
   "metadata": {
    "_cell_guid": "256bbaef-f091-4881-8e09-ca76f7579b51",
    "_uuid": "1ffa39c2531092ff83ed1ba66c0eae596b929ce8",
    "collapsed": true
   },
   "outputs": [],
   "source": [
    "df_songs_extra = pd.read_csv(\"input/song_extra_info.csv\")\n",
    "\n",
    "df_members = pd.read_csv(\"input/members.csv\",parse_dates=[\"registration_init_time\",\"expiration_date\"])"
   ]
  },
  {
   "cell_type": "code",
   "execution_count": 6,
   "metadata": {
    "_cell_guid": "d7c1e080-4c06-42c6-aaef-a2aa7b5a4b20",
    "_uuid": "e0dcad8c5f7ecc0605b2e3c41ef7c9f039eb0712",
    "collapsed": true
   },
   "outputs": [],
   "source": [
    "df_test = pd.read_csv(\"input/test.csv\")"
   ]
  },
  {
   "cell_type": "code",
   "execution_count": 7,
   "metadata": {
    "_cell_guid": "585859e2-8682-4596-905e-75ad529beb66",
    "_uuid": "e8bccb089f845cc9fc63a1b653c61ff1e206266e",
    "collapsed": true
   },
   "outputs": [],
   "source": [
    "df_train =df_train.merge(df_songs,how=\"left\",on=\"song_id\")"
   ]
  },
  {
   "cell_type": "code",
   "execution_count": 8,
   "metadata": {
    "_cell_guid": "cf973f60-d021-46e5-a48e-bcf8812fb2b2",
    "_uuid": "af3c466befdd422406896e5fcc9c101fdb427bdd",
    "collapsed": true
   },
   "outputs": [],
   "source": [
    "df_train = df_train.merge(df_members,how=\"left\",on=\"msno\")"
   ]
  },
  {
   "cell_type": "code",
   "execution_count": 9,
   "metadata": {
    "_cell_guid": "1089de98-9066-43d5-821b-5fea8f91bebd",
    "_uuid": "fc33204461c879b7e0ac2cfcd45b44e1b11af004",
    "collapsed": true
   },
   "outputs": [],
   "source": [
    "df_test =df_test.merge(df_songs,how=\"left\",on=\"song_id\")"
   ]
  },
  {
   "cell_type": "code",
   "execution_count": 10,
   "metadata": {
    "_cell_guid": "7ffed4bf-3fa1-4ce3-90c0-8522cbc0a3fa",
    "_uuid": "213b228b285361340b36a72dff21c8ff006196b4",
    "collapsed": true
   },
   "outputs": [],
   "source": [
    "df_test = df_test.merge(df_members,how=\"left\",on=\"msno\")"
   ]
  },
  {
   "cell_type": "markdown",
   "metadata": {
    "_cell_guid": "e333409f-d770-4341-9bfe-601b9832f178",
    "_uuid": "127f06c90014eaeef9765d6d29802d35e01fe00b"
   },
   "source": [
    "**Handling Null Values **"
   ]
  },
  {
   "cell_type": "code",
   "execution_count": 11,
   "metadata": {
    "_cell_guid": "b393f6d1-fe63-4b4e-9261-bdad96ea9fef",
    "_uuid": "cc6a3654aeb25cefc6388246374fc4dcae717d83",
    "collapsed": true
   },
   "outputs": [],
   "source": [
    "df_train['gender'].fillna(value=\"Unknown\",inplace=True)\n",
    "df_test['gender'].fillna(value=\"Unknown\",inplace=True)"
   ]
  },
  {
   "cell_type": "code",
   "execution_count": 12,
   "metadata": {
    "_cell_guid": "ebe1fdab-486e-41ba-847b-493576c1ca97",
    "_uuid": "76cd4f59b94b950e19906401dd14efecf4bbcc48",
    "collapsed": true
   },
   "outputs": [],
   "source": [
    "df_train['source_system_tab'].fillna(value=\"Unknown\",inplace=True)\n",
    "df_test['source_system_tab'].fillna(value=\"Unknown\",inplace=True)\n",
    "\n",
    "\n",
    "df_train['source_screen_name'].fillna(value=\"Unknown\",inplace=True)\n",
    "df_test['source_screen_name'].fillna(value=\"Unknown\",inplace=True)\n",
    "\n",
    "df_train['source_type'].fillna(value=\"Unknown\",inplace=True)\n",
    "df_test['source_type'].fillna(value=\"Unknown\",inplace=True)\n",
    "\n",
    "df_train['genre_ids'].fillna(value=\"Unknown\",inplace=True)\n",
    "df_test['genre_ids'].fillna(value=\"Unknown\",inplace=True)\n",
    "\n",
    "df_train['artist_name'].fillna(value=\"Unknown\",inplace=True)\n",
    "df_test['artist_name'].fillna(value=\"Unknown\",inplace=True)\n",
    "\n",
    "df_train['composer'].fillna(value=\"Unknown\",inplace=True)\n",
    "df_test['composer'].fillna(value=\"Unknown\",inplace=True)\n",
    "\n",
    "df_train['lyricist'].fillna(value=\"Unknown\",inplace=True)\n",
    "df_test['lyricist'].fillna(value=\"Unknown\",inplace=True)"
   ]
  },
  {
   "cell_type": "code",
   "execution_count": 13,
   "metadata": {
    "_cell_guid": "75a04a26-7c80-49fe-8d2a-b2e661f16cf5",
    "_uuid": "6bf2e0f16d8245cf836d0f4b6b7eb4b3b17ef4c0",
    "collapsed": true
   },
   "outputs": [],
   "source": [
    "df_train['song_length'].fillna(value=df_train['song_length'].mean(),inplace=True)\n",
    "\n",
    "df_test['song_length'].fillna(value=df_test['song_length'].mean(),inplace=True)"
   ]
  },
  {
   "cell_type": "code",
   "execution_count": 14,
   "metadata": {
    "_cell_guid": "0d21fffb-1e85-4780-adc7-92af115af6ee",
    "_uuid": "cf040fb40ca0d23245ac64dc30f03440783f838f",
    "collapsed": true
   },
   "outputs": [],
   "source": [
    "df_train['language'].fillna(value=df_train['language'].mode()[0],inplace=True)\n",
    "\n",
    "df_test['language'].fillna(value=df_test['language'].mode()[0],inplace=True)"
   ]
  },
  {
   "cell_type": "code",
   "execution_count": 15,
   "metadata": {
    "collapsed": false
   },
   "outputs": [],
   "source": [
    "gid_list = df_train['genre_ids'].unique()\n",
    "gid_dic = {}\n",
    "for i in range(len(gid_list)):\n",
    "    gid_dic[gid_list[i]] = i\n",
    "df_train['genre_ids_new'] = df_train['genre_ids'].map(gid_dic)\n",
    "df_test['genre_ids_new'] = df_test['genre_ids']\n",
    "df_test[\"genre_ids_new\"] = df_test[\"genre_ids_new\"].apply(lambda x : x if x in gid_dic else \"Unknown\").map(gid_dic)"
   ]
  },
  {
   "cell_type": "code",
   "execution_count": 16,
   "metadata": {
    "collapsed": false
   },
   "outputs": [
    {
     "data": {
      "text/html": [
       "<div>\n",
       "<style scoped>\n",
       "    .dataframe tbody tr th:only-of-type {\n",
       "        vertical-align: middle;\n",
       "    }\n",
       "\n",
       "    .dataframe tbody tr th {\n",
       "        vertical-align: top;\n",
       "    }\n",
       "\n",
       "    .dataframe thead th {\n",
       "        text-align: right;\n",
       "    }\n",
       "</style>\n",
       "<table border=\"1\" class=\"dataframe\">\n",
       "  <thead>\n",
       "    <tr style=\"text-align: right;\">\n",
       "      <th></th>\n",
       "      <th>id</th>\n",
       "      <th>msno</th>\n",
       "      <th>song_id</th>\n",
       "      <th>source_system_tab</th>\n",
       "      <th>source_screen_name</th>\n",
       "      <th>source_type</th>\n",
       "      <th>song_length</th>\n",
       "      <th>genre_ids</th>\n",
       "      <th>artist_name</th>\n",
       "      <th>composer</th>\n",
       "      <th>lyricist</th>\n",
       "      <th>language</th>\n",
       "      <th>city</th>\n",
       "      <th>bd</th>\n",
       "      <th>gender</th>\n",
       "      <th>registered_via</th>\n",
       "      <th>registration_init_time</th>\n",
       "      <th>expiration_date</th>\n",
       "      <th>genre_ids_new</th>\n",
       "    </tr>\n",
       "  </thead>\n",
       "  <tbody>\n",
       "    <tr>\n",
       "      <th>0</th>\n",
       "      <td>0</td>\n",
       "      <td>V8ruy7SGk7tDm3zA51DPpn6qutt+vmKMBKa21dp54uM=</td>\n",
       "      <td>WmHKgKMlp1lQMecNdNvDMkvIycZYHnFwDT72I5sIssc=</td>\n",
       "      <td>my library</td>\n",
       "      <td>Local playlist more</td>\n",
       "      <td>local-library</td>\n",
       "      <td>224130.0</td>\n",
       "      <td>458</td>\n",
       "      <td>梁文音 (Rachel Liang)</td>\n",
       "      <td>Qi Zheng Zhang</td>\n",
       "      <td>Unknown</td>\n",
       "      <td>3.0</td>\n",
       "      <td>1</td>\n",
       "      <td>0</td>\n",
       "      <td>Unknown</td>\n",
       "      <td>7</td>\n",
       "      <td>2016-02-19</td>\n",
       "      <td>2017-09-18</td>\n",
       "      <td>6</td>\n",
       "    </tr>\n",
       "    <tr>\n",
       "      <th>1</th>\n",
       "      <td>1</td>\n",
       "      <td>V8ruy7SGk7tDm3zA51DPpn6qutt+vmKMBKa21dp54uM=</td>\n",
       "      <td>y/rsZ9DC7FwK5F2PK2D5mj+aOBUJAjuu3dZ14NgE0vM=</td>\n",
       "      <td>my library</td>\n",
       "      <td>Local playlist more</td>\n",
       "      <td>local-library</td>\n",
       "      <td>320470.0</td>\n",
       "      <td>465</td>\n",
       "      <td>林俊傑 (JJ Lin)</td>\n",
       "      <td>林俊傑</td>\n",
       "      <td>孫燕姿/易家揚</td>\n",
       "      <td>3.0</td>\n",
       "      <td>1</td>\n",
       "      <td>0</td>\n",
       "      <td>Unknown</td>\n",
       "      <td>7</td>\n",
       "      <td>2016-02-19</td>\n",
       "      <td>2017-09-18</td>\n",
       "      <td>4</td>\n",
       "    </tr>\n",
       "    <tr>\n",
       "      <th>2</th>\n",
       "      <td>2</td>\n",
       "      <td>/uQAlrAkaczV+nWCd2sPF2ekvXPRipV7q0l+gbLuxjw=</td>\n",
       "      <td>8eZLFOdGVdXBSqoAv5nsLigeH2BvKXzTQYtUM53I0k4=</td>\n",
       "      <td>discover</td>\n",
       "      <td>Unknown</td>\n",
       "      <td>song-based-playlist</td>\n",
       "      <td>315899.0</td>\n",
       "      <td>2022</td>\n",
       "      <td>Yu Takahashi (高橋優)</td>\n",
       "      <td>Yu Takahashi</td>\n",
       "      <td>Yu Takahashi</td>\n",
       "      <td>17.0</td>\n",
       "      <td>1</td>\n",
       "      <td>0</td>\n",
       "      <td>Unknown</td>\n",
       "      <td>4</td>\n",
       "      <td>2016-11-17</td>\n",
       "      <td>2016-11-24</td>\n",
       "      <td>5</td>\n",
       "    </tr>\n",
       "    <tr>\n",
       "      <th>3</th>\n",
       "      <td>3</td>\n",
       "      <td>1a6oo/iXKatxQx4eS9zTVD+KlSVaAFbTIqVvwLC1Y0k=</td>\n",
       "      <td>ztCf8thYsS4YN3GcIL/bvoxLm/T5mYBVKOO4C9NiVfQ=</td>\n",
       "      <td>radio</td>\n",
       "      <td>Radio</td>\n",
       "      <td>radio</td>\n",
       "      <td>285210.0</td>\n",
       "      <td>465</td>\n",
       "      <td>U2</td>\n",
       "      <td>The Edge| Adam Clayton| Larry Mullen| Jr.</td>\n",
       "      <td>Unknown</td>\n",
       "      <td>52.0</td>\n",
       "      <td>3</td>\n",
       "      <td>30</td>\n",
       "      <td>male</td>\n",
       "      <td>9</td>\n",
       "      <td>2007-07-25</td>\n",
       "      <td>2017-04-30</td>\n",
       "      <td>4</td>\n",
       "    </tr>\n",
       "    <tr>\n",
       "      <th>4</th>\n",
       "      <td>4</td>\n",
       "      <td>1a6oo/iXKatxQx4eS9zTVD+KlSVaAFbTIqVvwLC1Y0k=</td>\n",
       "      <td>MKVMpslKcQhMaFEgcEQhEfi5+RZhMYlU3eRDpySrH8Y=</td>\n",
       "      <td>radio</td>\n",
       "      <td>Radio</td>\n",
       "      <td>radio</td>\n",
       "      <td>197590.0</td>\n",
       "      <td>873</td>\n",
       "      <td>Yoga Mr Sound</td>\n",
       "      <td>Neuromancer</td>\n",
       "      <td>Unknown</td>\n",
       "      <td>-1.0</td>\n",
       "      <td>3</td>\n",
       "      <td>30</td>\n",
       "      <td>male</td>\n",
       "      <td>9</td>\n",
       "      <td>2007-07-25</td>\n",
       "      <td>2017-04-30</td>\n",
       "      <td>64</td>\n",
       "    </tr>\n",
       "  </tbody>\n",
       "</table>\n",
       "</div>"
      ],
      "text/plain": [
       "   id                                          msno  \\\n",
       "0   0  V8ruy7SGk7tDm3zA51DPpn6qutt+vmKMBKa21dp54uM=   \n",
       "1   1  V8ruy7SGk7tDm3zA51DPpn6qutt+vmKMBKa21dp54uM=   \n",
       "2   2  /uQAlrAkaczV+nWCd2sPF2ekvXPRipV7q0l+gbLuxjw=   \n",
       "3   3  1a6oo/iXKatxQx4eS9zTVD+KlSVaAFbTIqVvwLC1Y0k=   \n",
       "4   4  1a6oo/iXKatxQx4eS9zTVD+KlSVaAFbTIqVvwLC1Y0k=   \n",
       "\n",
       "                                        song_id source_system_tab  \\\n",
       "0  WmHKgKMlp1lQMecNdNvDMkvIycZYHnFwDT72I5sIssc=        my library   \n",
       "1  y/rsZ9DC7FwK5F2PK2D5mj+aOBUJAjuu3dZ14NgE0vM=        my library   \n",
       "2  8eZLFOdGVdXBSqoAv5nsLigeH2BvKXzTQYtUM53I0k4=          discover   \n",
       "3  ztCf8thYsS4YN3GcIL/bvoxLm/T5mYBVKOO4C9NiVfQ=             radio   \n",
       "4  MKVMpslKcQhMaFEgcEQhEfi5+RZhMYlU3eRDpySrH8Y=             radio   \n",
       "\n",
       "    source_screen_name          source_type  song_length genre_ids  \\\n",
       "0  Local playlist more        local-library     224130.0       458   \n",
       "1  Local playlist more        local-library     320470.0       465   \n",
       "2              Unknown  song-based-playlist     315899.0      2022   \n",
       "3                Radio                radio     285210.0       465   \n",
       "4                Radio                radio     197590.0       873   \n",
       "\n",
       "          artist_name                                   composer  \\\n",
       "0  梁文音 (Rachel Liang)                             Qi Zheng Zhang   \n",
       "1        林俊傑 (JJ Lin)                                        林俊傑   \n",
       "2  Yu Takahashi (高橋優)                               Yu Takahashi   \n",
       "3                  U2  The Edge| Adam Clayton| Larry Mullen| Jr.   \n",
       "4       Yoga Mr Sound                                Neuromancer   \n",
       "\n",
       "       lyricist  language  city  bd   gender  registered_via  \\\n",
       "0       Unknown       3.0     1   0  Unknown               7   \n",
       "1       孫燕姿/易家揚       3.0     1   0  Unknown               7   \n",
       "2  Yu Takahashi      17.0     1   0  Unknown               4   \n",
       "3       Unknown      52.0     3  30     male               9   \n",
       "4       Unknown      -1.0     3  30     male               9   \n",
       "\n",
       "  registration_init_time expiration_date  genre_ids_new  \n",
       "0             2016-02-19      2017-09-18              6  \n",
       "1             2016-02-19      2017-09-18              4  \n",
       "2             2016-11-17      2016-11-24              5  \n",
       "3             2007-07-25      2017-04-30              4  \n",
       "4             2007-07-25      2017-04-30             64  "
      ]
     },
     "execution_count": 16,
     "metadata": {},
     "output_type": "execute_result"
    }
   ],
   "source": [
    "df_test.head()"
   ]
  },
  {
   "cell_type": "markdown",
   "metadata": {
    "_cell_guid": "1f014333-f955-4981-a3ea-dde56af6dfa4",
    "_uuid": "898c7a025be2ac33db60645424436fb16deee0fd"
   },
   "source": [
    "**Genre IDS**"
   ]
  },
  {
   "cell_type": "code",
   "execution_count": 17,
   "metadata": {
    "collapsed": false
   },
   "outputs": [
    {
     "data": {
      "text/plain": [
       "array([  0,   1,   2,   3,   4,   5,   6,   7,   8,   9,  10,  11,  12,\n",
       "        13,  14,  15,  16,  17,  18,  19,  20,  21,  22,  23,  24,  25,\n",
       "        26,  27,  28,  29,  30,  31,  32,  33,  34,  35,  36,  37,  38,\n",
       "        39,  40,  41,  42,  43,  44,  45,  46,  47,  48,  49,  50,  51,\n",
       "        52,  53,  54,  55,  56,  57,  58,  59,  60,  61,  62,  63,  64,\n",
       "        65,  66,  67,  68,  69,  70,  71,  72,  73,  74,  75,  76,  77,\n",
       "        78,  79,  80,  81,  82,  83,  84,  85,  86,  87,  88,  89,  90,\n",
       "        91,  92,  93,  94,  95,  96,  97,  98,  99, 100, 101, 102, 103,\n",
       "       104, 105, 106, 107, 108, 109, 110, 111, 112, 113, 114, 115, 116,\n",
       "       117, 118, 119, 120, 121, 122, 123, 124, 125, 126, 127, 128, 129,\n",
       "       130, 131, 132, 133, 134, 135, 136, 137, 138, 139, 140, 141, 142,\n",
       "       143, 144, 145, 146, 147, 148, 149, 150, 151, 152, 153, 154, 155,\n",
       "       156, 157, 158, 159, 160, 161, 162, 163, 164, 165, 166, 167, 168,\n",
       "       169, 170, 171, 172, 173, 174, 175, 176, 177, 178, 179, 180, 181,\n",
       "       182, 183, 184, 185, 186, 187, 188, 189, 190, 191, 192, 193, 194,\n",
       "       195, 196, 197, 198, 199, 200, 201, 202, 203, 204, 205, 206, 207,\n",
       "       208, 209, 210, 211, 212, 213, 214, 215, 216, 217, 218, 219, 220,\n",
       "       221, 222, 223, 224, 225, 226, 227, 228, 229, 230, 231, 232, 233,\n",
       "       234, 235, 236, 237, 238, 239, 240, 241, 242, 243, 244, 245, 246,\n",
       "       247, 248, 249, 250, 251, 252, 253, 254, 255, 256, 257, 258, 259,\n",
       "       260, 261, 262, 263, 264, 265, 266, 267, 268, 269, 270, 271, 272,\n",
       "       273, 274, 275, 276, 277, 278, 279, 280, 281, 282, 283, 284, 285,\n",
       "       286, 287, 288, 289, 290, 291, 292, 293, 294, 295, 296, 297, 298,\n",
       "       299, 300, 301, 302, 303, 304, 305, 306, 307, 308, 309, 310, 311,\n",
       "       312, 313, 314, 315, 316, 317, 318, 319, 320, 321, 322, 323, 324,\n",
       "       325, 326, 327, 328, 329, 330, 331, 332, 333, 334, 335, 336, 337,\n",
       "       338, 339, 340, 341, 342, 343, 344, 345, 346, 347, 348, 349, 350,\n",
       "       351, 352, 353, 354, 355, 356, 357, 358, 359, 360, 361, 362, 363,\n",
       "       364, 365, 366, 367, 368, 369, 370, 371, 372, 373, 374, 375, 376,\n",
       "       377, 378, 379, 380, 381, 382, 383, 384, 385, 386, 387, 388, 389,\n",
       "       390, 391, 392, 393, 394, 395, 396, 397, 398, 399, 400, 401, 402,\n",
       "       403, 404, 405, 406, 407, 408, 409, 410, 411, 412, 413, 414, 415,\n",
       "       416, 417, 418, 419, 420, 421, 422, 423, 424, 425, 426, 427, 428,\n",
       "       429, 430, 431, 432, 433, 434, 435, 436, 437, 438, 439, 440, 441,\n",
       "       442, 443, 444, 445, 446, 447, 448, 449, 450, 451, 452, 453, 454,\n",
       "       455, 456, 457, 458, 459, 460, 461, 462, 463, 464, 465, 466, 467,\n",
       "       468, 469, 470, 471, 472, 473, 474, 475, 476, 477, 478, 479, 480,\n",
       "       481, 482, 483, 484, 485, 486, 487, 488, 489, 490, 491, 492, 493,\n",
       "       494, 495, 496, 497, 498, 499, 500, 501, 502, 503, 504, 505, 506,\n",
       "       507, 508, 509, 510, 511, 512, 513, 514, 515, 516, 517, 518, 519,\n",
       "       520, 521, 522, 523, 524, 525, 526, 527, 528, 529, 530, 531, 532,\n",
       "       533, 534, 535, 536, 537, 538, 539, 540, 541, 542, 543, 544, 545,\n",
       "       546, 547, 548, 549, 550, 551, 552, 553, 554, 555, 556, 557, 558,\n",
       "       559, 560, 561, 562, 563, 564, 565, 566, 567, 568, 569, 570, 571, 572])"
      ]
     },
     "execution_count": 17,
     "metadata": {},
     "output_type": "execute_result"
    }
   ],
   "source": [
    "df_train['genre_ids_new'].unique()"
   ]
  },
  {
   "cell_type": "code",
   "execution_count": 18,
   "metadata": {
    "_cell_guid": "43387f09-0422-48be-915b-0394583eae90",
    "_uuid": "972d48d02721a4c57e9fdfedba6bd98c111e8a7b",
    "collapsed": true
   },
   "outputs": [],
   "source": [
    "df_train['genre_ids'] = df_train['genre_ids'].str.split(\"|\")\n",
    "\n",
    "df_test['genre_ids'] = df_test['genre_ids'].str.split(\"|\")"
   ]
  },
  {
   "cell_type": "code",
   "execution_count": 19,
   "metadata": {
    "collapsed": false
   },
   "outputs": [
    {
     "data": {
      "text/html": [
       "<div>\n",
       "<style scoped>\n",
       "    .dataframe tbody tr th:only-of-type {\n",
       "        vertical-align: middle;\n",
       "    }\n",
       "\n",
       "    .dataframe tbody tr th {\n",
       "        vertical-align: top;\n",
       "    }\n",
       "\n",
       "    .dataframe thead th {\n",
       "        text-align: right;\n",
       "    }\n",
       "</style>\n",
       "<table border=\"1\" class=\"dataframe\">\n",
       "  <thead>\n",
       "    <tr style=\"text-align: right;\">\n",
       "      <th></th>\n",
       "      <th>msno</th>\n",
       "      <th>song_id</th>\n",
       "      <th>source_system_tab</th>\n",
       "      <th>source_screen_name</th>\n",
       "      <th>source_type</th>\n",
       "      <th>target</th>\n",
       "      <th>song_length</th>\n",
       "      <th>genre_ids</th>\n",
       "      <th>artist_name</th>\n",
       "      <th>composer</th>\n",
       "      <th>lyricist</th>\n",
       "      <th>language</th>\n",
       "      <th>city</th>\n",
       "      <th>bd</th>\n",
       "      <th>gender</th>\n",
       "      <th>registered_via</th>\n",
       "      <th>registration_init_time</th>\n",
       "      <th>expiration_date</th>\n",
       "      <th>genre_ids_new</th>\n",
       "    </tr>\n",
       "  </thead>\n",
       "  <tbody>\n",
       "    <tr>\n",
       "      <th>0</th>\n",
       "      <td>FGtllVqz18RPiwJj/edr2gV78zirAiY/9SmYvia+kCg=</td>\n",
       "      <td>BBzumQNXUHKdEBOB7mAJuzok+IJA1c2Ryg/yzTF6tik=</td>\n",
       "      <td>explore</td>\n",
       "      <td>Explore</td>\n",
       "      <td>online-playlist</td>\n",
       "      <td>1</td>\n",
       "      <td>206471.0</td>\n",
       "      <td>[359]</td>\n",
       "      <td>Bastille</td>\n",
       "      <td>Dan Smith| Mark Crew</td>\n",
       "      <td>Unknown</td>\n",
       "      <td>52.0</td>\n",
       "      <td>1</td>\n",
       "      <td>0</td>\n",
       "      <td>Unknown</td>\n",
       "      <td>7</td>\n",
       "      <td>2012-01-02</td>\n",
       "      <td>2017-10-05</td>\n",
       "      <td>0</td>\n",
       "    </tr>\n",
       "    <tr>\n",
       "      <th>1</th>\n",
       "      <td>Xumu+NIjS6QYVxDS4/t3SawvJ7viT9hPKXmf0RtLNx8=</td>\n",
       "      <td>bhp/MpSNoqoxOIB+/l8WPqu6jldth4DIpCm3ayXnJqM=</td>\n",
       "      <td>my library</td>\n",
       "      <td>Local playlist more</td>\n",
       "      <td>local-playlist</td>\n",
       "      <td>1</td>\n",
       "      <td>284584.0</td>\n",
       "      <td>[1259]</td>\n",
       "      <td>Various Artists</td>\n",
       "      <td>Unknown</td>\n",
       "      <td>Unknown</td>\n",
       "      <td>52.0</td>\n",
       "      <td>13</td>\n",
       "      <td>24</td>\n",
       "      <td>female</td>\n",
       "      <td>9</td>\n",
       "      <td>2011-05-25</td>\n",
       "      <td>2017-09-11</td>\n",
       "      <td>1</td>\n",
       "    </tr>\n",
       "    <tr>\n",
       "      <th>2</th>\n",
       "      <td>Xumu+NIjS6QYVxDS4/t3SawvJ7viT9hPKXmf0RtLNx8=</td>\n",
       "      <td>JNWfrrC7zNN7BdMpsISKa4Mw+xVJYNnxXh3/Epw7QgY=</td>\n",
       "      <td>my library</td>\n",
       "      <td>Local playlist more</td>\n",
       "      <td>local-playlist</td>\n",
       "      <td>1</td>\n",
       "      <td>225396.0</td>\n",
       "      <td>[1259]</td>\n",
       "      <td>Nas</td>\n",
       "      <td>N. Jones、W. Adams、J. Lordan、D. Ingle</td>\n",
       "      <td>Unknown</td>\n",
       "      <td>52.0</td>\n",
       "      <td>13</td>\n",
       "      <td>24</td>\n",
       "      <td>female</td>\n",
       "      <td>9</td>\n",
       "      <td>2011-05-25</td>\n",
       "      <td>2017-09-11</td>\n",
       "      <td>1</td>\n",
       "    </tr>\n",
       "    <tr>\n",
       "      <th>3</th>\n",
       "      <td>Xumu+NIjS6QYVxDS4/t3SawvJ7viT9hPKXmf0RtLNx8=</td>\n",
       "      <td>2A87tzfnJTSWqD7gIZHisolhe4DMdzkbd6LzO1KHjNs=</td>\n",
       "      <td>my library</td>\n",
       "      <td>Local playlist more</td>\n",
       "      <td>local-playlist</td>\n",
       "      <td>1</td>\n",
       "      <td>255512.0</td>\n",
       "      <td>[1019]</td>\n",
       "      <td>Soundway</td>\n",
       "      <td>Kwadwo Donkoh</td>\n",
       "      <td>Unknown</td>\n",
       "      <td>-1.0</td>\n",
       "      <td>13</td>\n",
       "      <td>24</td>\n",
       "      <td>female</td>\n",
       "      <td>9</td>\n",
       "      <td>2011-05-25</td>\n",
       "      <td>2017-09-11</td>\n",
       "      <td>2</td>\n",
       "    </tr>\n",
       "    <tr>\n",
       "      <th>4</th>\n",
       "      <td>FGtllVqz18RPiwJj/edr2gV78zirAiY/9SmYvia+kCg=</td>\n",
       "      <td>3qm6XTZ6MOCU11x8FIVbAGH5l5uMkT3/ZalWG1oo2Gc=</td>\n",
       "      <td>explore</td>\n",
       "      <td>Explore</td>\n",
       "      <td>online-playlist</td>\n",
       "      <td>1</td>\n",
       "      <td>187802.0</td>\n",
       "      <td>[1011]</td>\n",
       "      <td>Brett Young</td>\n",
       "      <td>Brett Young| Kelly Archer| Justin Ebach</td>\n",
       "      <td>Unknown</td>\n",
       "      <td>52.0</td>\n",
       "      <td>1</td>\n",
       "      <td>0</td>\n",
       "      <td>Unknown</td>\n",
       "      <td>7</td>\n",
       "      <td>2012-01-02</td>\n",
       "      <td>2017-10-05</td>\n",
       "      <td>3</td>\n",
       "    </tr>\n",
       "  </tbody>\n",
       "</table>\n",
       "</div>"
      ],
      "text/plain": [
       "                                           msno  \\\n",
       "0  FGtllVqz18RPiwJj/edr2gV78zirAiY/9SmYvia+kCg=   \n",
       "1  Xumu+NIjS6QYVxDS4/t3SawvJ7viT9hPKXmf0RtLNx8=   \n",
       "2  Xumu+NIjS6QYVxDS4/t3SawvJ7viT9hPKXmf0RtLNx8=   \n",
       "3  Xumu+NIjS6QYVxDS4/t3SawvJ7viT9hPKXmf0RtLNx8=   \n",
       "4  FGtllVqz18RPiwJj/edr2gV78zirAiY/9SmYvia+kCg=   \n",
       "\n",
       "                                        song_id source_system_tab  \\\n",
       "0  BBzumQNXUHKdEBOB7mAJuzok+IJA1c2Ryg/yzTF6tik=           explore   \n",
       "1  bhp/MpSNoqoxOIB+/l8WPqu6jldth4DIpCm3ayXnJqM=        my library   \n",
       "2  JNWfrrC7zNN7BdMpsISKa4Mw+xVJYNnxXh3/Epw7QgY=        my library   \n",
       "3  2A87tzfnJTSWqD7gIZHisolhe4DMdzkbd6LzO1KHjNs=        my library   \n",
       "4  3qm6XTZ6MOCU11x8FIVbAGH5l5uMkT3/ZalWG1oo2Gc=           explore   \n",
       "\n",
       "    source_screen_name      source_type  target  song_length genre_ids  \\\n",
       "0              Explore  online-playlist       1     206471.0     [359]   \n",
       "1  Local playlist more   local-playlist       1     284584.0    [1259]   \n",
       "2  Local playlist more   local-playlist       1     225396.0    [1259]   \n",
       "3  Local playlist more   local-playlist       1     255512.0    [1019]   \n",
       "4              Explore  online-playlist       1     187802.0    [1011]   \n",
       "\n",
       "       artist_name                                 composer lyricist  \\\n",
       "0         Bastille                     Dan Smith| Mark Crew  Unknown   \n",
       "1  Various Artists                                  Unknown  Unknown   \n",
       "2              Nas     N. Jones、W. Adams、J. Lordan、D. Ingle  Unknown   \n",
       "3         Soundway                            Kwadwo Donkoh  Unknown   \n",
       "4      Brett Young  Brett Young| Kelly Archer| Justin Ebach  Unknown   \n",
       "\n",
       "   language  city  bd   gender  registered_via registration_init_time  \\\n",
       "0      52.0     1   0  Unknown               7             2012-01-02   \n",
       "1      52.0    13  24   female               9             2011-05-25   \n",
       "2      52.0    13  24   female               9             2011-05-25   \n",
       "3      -1.0    13  24   female               9             2011-05-25   \n",
       "4      52.0     1   0  Unknown               7             2012-01-02   \n",
       "\n",
       "  expiration_date  genre_ids_new  \n",
       "0      2017-10-05              0  \n",
       "1      2017-09-11              1  \n",
       "2      2017-09-11              1  \n",
       "3      2017-09-11              2  \n",
       "4      2017-10-05              3  "
      ]
     },
     "execution_count": 19,
     "metadata": {},
     "output_type": "execute_result"
    }
   ],
   "source": [
    "df_train.head()"
   ]
  },
  {
   "cell_type": "code",
   "execution_count": 20,
   "metadata": {
    "_cell_guid": "821f9d07-0266-4014-9456-c4950a5e24b8",
    "_uuid": "dcbb6c6bb323c2c3bbf77924013ccde738b9663b",
    "collapsed": false
   },
   "outputs": [],
   "source": [
    "df_train['genre_count'] = df_train['genre_ids'].apply(lambda x : len(x) if \"Unknown\" not in x else 0)\n",
    "\n",
    "df_test['genre_count'] = df_test['genre_ids'].apply(lambda x : len(x) if \"Unknown\" not in x else 0)"
   ]
  },
  {
   "cell_type": "code",
   "execution_count": 21,
   "metadata": {
    "collapsed": false
   },
   "outputs": [
    {
     "data": {
      "text/html": [
       "<div>\n",
       "<style scoped>\n",
       "    .dataframe tbody tr th:only-of-type {\n",
       "        vertical-align: middle;\n",
       "    }\n",
       "\n",
       "    .dataframe tbody tr th {\n",
       "        vertical-align: top;\n",
       "    }\n",
       "\n",
       "    .dataframe thead th {\n",
       "        text-align: right;\n",
       "    }\n",
       "</style>\n",
       "<table border=\"1\" class=\"dataframe\">\n",
       "  <thead>\n",
       "    <tr style=\"text-align: right;\">\n",
       "      <th></th>\n",
       "      <th>msno</th>\n",
       "      <th>song_id</th>\n",
       "      <th>source_system_tab</th>\n",
       "      <th>source_screen_name</th>\n",
       "      <th>source_type</th>\n",
       "      <th>target</th>\n",
       "      <th>song_length</th>\n",
       "      <th>genre_ids</th>\n",
       "      <th>artist_name</th>\n",
       "      <th>composer</th>\n",
       "      <th>lyricist</th>\n",
       "      <th>language</th>\n",
       "      <th>city</th>\n",
       "      <th>bd</th>\n",
       "      <th>gender</th>\n",
       "      <th>registered_via</th>\n",
       "      <th>registration_init_time</th>\n",
       "      <th>expiration_date</th>\n",
       "      <th>genre_ids_new</th>\n",
       "      <th>genre_count</th>\n",
       "    </tr>\n",
       "  </thead>\n",
       "  <tbody>\n",
       "    <tr>\n",
       "      <th>0</th>\n",
       "      <td>FGtllVqz18RPiwJj/edr2gV78zirAiY/9SmYvia+kCg=</td>\n",
       "      <td>BBzumQNXUHKdEBOB7mAJuzok+IJA1c2Ryg/yzTF6tik=</td>\n",
       "      <td>explore</td>\n",
       "      <td>Explore</td>\n",
       "      <td>online-playlist</td>\n",
       "      <td>1</td>\n",
       "      <td>206471.0</td>\n",
       "      <td>[359]</td>\n",
       "      <td>Bastille</td>\n",
       "      <td>Dan Smith| Mark Crew</td>\n",
       "      <td>Unknown</td>\n",
       "      <td>52.0</td>\n",
       "      <td>1</td>\n",
       "      <td>0</td>\n",
       "      <td>Unknown</td>\n",
       "      <td>7</td>\n",
       "      <td>2012-01-02</td>\n",
       "      <td>2017-10-05</td>\n",
       "      <td>0</td>\n",
       "      <td>1</td>\n",
       "    </tr>\n",
       "    <tr>\n",
       "      <th>1</th>\n",
       "      <td>Xumu+NIjS6QYVxDS4/t3SawvJ7viT9hPKXmf0RtLNx8=</td>\n",
       "      <td>bhp/MpSNoqoxOIB+/l8WPqu6jldth4DIpCm3ayXnJqM=</td>\n",
       "      <td>my library</td>\n",
       "      <td>Local playlist more</td>\n",
       "      <td>local-playlist</td>\n",
       "      <td>1</td>\n",
       "      <td>284584.0</td>\n",
       "      <td>[1259]</td>\n",
       "      <td>Various Artists</td>\n",
       "      <td>Unknown</td>\n",
       "      <td>Unknown</td>\n",
       "      <td>52.0</td>\n",
       "      <td>13</td>\n",
       "      <td>24</td>\n",
       "      <td>female</td>\n",
       "      <td>9</td>\n",
       "      <td>2011-05-25</td>\n",
       "      <td>2017-09-11</td>\n",
       "      <td>1</td>\n",
       "      <td>1</td>\n",
       "    </tr>\n",
       "    <tr>\n",
       "      <th>2</th>\n",
       "      <td>Xumu+NIjS6QYVxDS4/t3SawvJ7viT9hPKXmf0RtLNx8=</td>\n",
       "      <td>JNWfrrC7zNN7BdMpsISKa4Mw+xVJYNnxXh3/Epw7QgY=</td>\n",
       "      <td>my library</td>\n",
       "      <td>Local playlist more</td>\n",
       "      <td>local-playlist</td>\n",
       "      <td>1</td>\n",
       "      <td>225396.0</td>\n",
       "      <td>[1259]</td>\n",
       "      <td>Nas</td>\n",
       "      <td>N. Jones、W. Adams、J. Lordan、D. Ingle</td>\n",
       "      <td>Unknown</td>\n",
       "      <td>52.0</td>\n",
       "      <td>13</td>\n",
       "      <td>24</td>\n",
       "      <td>female</td>\n",
       "      <td>9</td>\n",
       "      <td>2011-05-25</td>\n",
       "      <td>2017-09-11</td>\n",
       "      <td>1</td>\n",
       "      <td>1</td>\n",
       "    </tr>\n",
       "    <tr>\n",
       "      <th>3</th>\n",
       "      <td>Xumu+NIjS6QYVxDS4/t3SawvJ7viT9hPKXmf0RtLNx8=</td>\n",
       "      <td>2A87tzfnJTSWqD7gIZHisolhe4DMdzkbd6LzO1KHjNs=</td>\n",
       "      <td>my library</td>\n",
       "      <td>Local playlist more</td>\n",
       "      <td>local-playlist</td>\n",
       "      <td>1</td>\n",
       "      <td>255512.0</td>\n",
       "      <td>[1019]</td>\n",
       "      <td>Soundway</td>\n",
       "      <td>Kwadwo Donkoh</td>\n",
       "      <td>Unknown</td>\n",
       "      <td>-1.0</td>\n",
       "      <td>13</td>\n",
       "      <td>24</td>\n",
       "      <td>female</td>\n",
       "      <td>9</td>\n",
       "      <td>2011-05-25</td>\n",
       "      <td>2017-09-11</td>\n",
       "      <td>2</td>\n",
       "      <td>1</td>\n",
       "    </tr>\n",
       "    <tr>\n",
       "      <th>4</th>\n",
       "      <td>FGtllVqz18RPiwJj/edr2gV78zirAiY/9SmYvia+kCg=</td>\n",
       "      <td>3qm6XTZ6MOCU11x8FIVbAGH5l5uMkT3/ZalWG1oo2Gc=</td>\n",
       "      <td>explore</td>\n",
       "      <td>Explore</td>\n",
       "      <td>online-playlist</td>\n",
       "      <td>1</td>\n",
       "      <td>187802.0</td>\n",
       "      <td>[1011]</td>\n",
       "      <td>Brett Young</td>\n",
       "      <td>Brett Young| Kelly Archer| Justin Ebach</td>\n",
       "      <td>Unknown</td>\n",
       "      <td>52.0</td>\n",
       "      <td>1</td>\n",
       "      <td>0</td>\n",
       "      <td>Unknown</td>\n",
       "      <td>7</td>\n",
       "      <td>2012-01-02</td>\n",
       "      <td>2017-10-05</td>\n",
       "      <td>3</td>\n",
       "      <td>1</td>\n",
       "    </tr>\n",
       "  </tbody>\n",
       "</table>\n",
       "</div>"
      ],
      "text/plain": [
       "                                           msno  \\\n",
       "0  FGtllVqz18RPiwJj/edr2gV78zirAiY/9SmYvia+kCg=   \n",
       "1  Xumu+NIjS6QYVxDS4/t3SawvJ7viT9hPKXmf0RtLNx8=   \n",
       "2  Xumu+NIjS6QYVxDS4/t3SawvJ7viT9hPKXmf0RtLNx8=   \n",
       "3  Xumu+NIjS6QYVxDS4/t3SawvJ7viT9hPKXmf0RtLNx8=   \n",
       "4  FGtllVqz18RPiwJj/edr2gV78zirAiY/9SmYvia+kCg=   \n",
       "\n",
       "                                        song_id source_system_tab  \\\n",
       "0  BBzumQNXUHKdEBOB7mAJuzok+IJA1c2Ryg/yzTF6tik=           explore   \n",
       "1  bhp/MpSNoqoxOIB+/l8WPqu6jldth4DIpCm3ayXnJqM=        my library   \n",
       "2  JNWfrrC7zNN7BdMpsISKa4Mw+xVJYNnxXh3/Epw7QgY=        my library   \n",
       "3  2A87tzfnJTSWqD7gIZHisolhe4DMdzkbd6LzO1KHjNs=        my library   \n",
       "4  3qm6XTZ6MOCU11x8FIVbAGH5l5uMkT3/ZalWG1oo2Gc=           explore   \n",
       "\n",
       "    source_screen_name      source_type  target  song_length genre_ids  \\\n",
       "0              Explore  online-playlist       1     206471.0     [359]   \n",
       "1  Local playlist more   local-playlist       1     284584.0    [1259]   \n",
       "2  Local playlist more   local-playlist       1     225396.0    [1259]   \n",
       "3  Local playlist more   local-playlist       1     255512.0    [1019]   \n",
       "4              Explore  online-playlist       1     187802.0    [1011]   \n",
       "\n",
       "       artist_name                                 composer lyricist  \\\n",
       "0         Bastille                     Dan Smith| Mark Crew  Unknown   \n",
       "1  Various Artists                                  Unknown  Unknown   \n",
       "2              Nas     N. Jones、W. Adams、J. Lordan、D. Ingle  Unknown   \n",
       "3         Soundway                            Kwadwo Donkoh  Unknown   \n",
       "4      Brett Young  Brett Young| Kelly Archer| Justin Ebach  Unknown   \n",
       "\n",
       "   language  city  bd   gender  registered_via registration_init_time  \\\n",
       "0      52.0     1   0  Unknown               7             2012-01-02   \n",
       "1      52.0    13  24   female               9             2011-05-25   \n",
       "2      52.0    13  24   female               9             2011-05-25   \n",
       "3      -1.0    13  24   female               9             2011-05-25   \n",
       "4      52.0     1   0  Unknown               7             2012-01-02   \n",
       "\n",
       "  expiration_date  genre_ids_new  genre_count  \n",
       "0      2017-10-05              0            1  \n",
       "1      2017-09-11              1            1  \n",
       "2      2017-09-11              1            1  \n",
       "3      2017-09-11              2            1  \n",
       "4      2017-10-05              3            1  "
      ]
     },
     "execution_count": 21,
     "metadata": {},
     "output_type": "execute_result"
    }
   ],
   "source": [
    "df_train.head()"
   ]
  },
  {
   "cell_type": "markdown",
   "metadata": {
    "_cell_guid": "cd7e49ae-88d0-481f-bdc7-95b318c8b7fd",
    "_uuid": "c5f89ab485172aaf1d96b60e911c514685f7f4d0"
   },
   "source": [
    "**Artists **"
   ]
  },
  {
   "cell_type": "code",
   "execution_count": 22,
   "metadata": {
    "_cell_guid": "d59dcfad-2271-4f9f-9e5c-d97f25ae6774",
    "_uuid": "2c141b0fe803b1f506abd04dc9715046eb09ca1b",
    "collapsed": false
   },
   "outputs": [
    {
     "data": {
      "text/plain": [
       "40583"
      ]
     },
     "execution_count": 22,
     "metadata": {},
     "output_type": "execute_result"
    }
   ],
   "source": [
    "df_train['artist_name'].nunique()"
   ]
  },
  {
   "cell_type": "code",
   "execution_count": 23,
   "metadata": {
    "_cell_guid": "eb9065f0-a15b-41b8-87d6-d07aff16bf70",
    "_uuid": "e68ffa35d8f9116652875920c08a19d79e2ac3a2",
    "collapsed": false
   },
   "outputs": [
    {
     "data": {
      "text/plain": [
       "27564"
      ]
     },
     "execution_count": 23,
     "metadata": {},
     "output_type": "execute_result"
    }
   ],
   "source": [
    "df_test['artist_name'].nunique()"
   ]
  },
  {
   "cell_type": "code",
   "execution_count": 24,
   "metadata": {
    "_cell_guid": "4fbf7433-f2e1-4c1f-9f33-42bf035c287f",
    "_uuid": "dd0f6621b8fd55f05d97660e152368b388d8859b",
    "collapsed": false
   },
   "outputs": [
    {
     "name": "stdout",
     "output_type": "stream",
     "text": [
      "Number of Common Artists in both train & Test :  21774\n"
     ]
    }
   ],
   "source": [
    "print(\"Number of Common Artists in both train & Test : \", len(set.intersection(set(df_train['artist_name']), set(df_test['artist_name']))))"
   ]
  },
  {
   "cell_type": "code",
   "execution_count": 25,
   "metadata": {
    "_cell_guid": "f920d26a-4ffd-45ed-8631-d27acc8d4b03",
    "_uuid": "2b7cfeb72f4af921f56593fed42ef0e5189ef607",
    "collapsed": true
   },
   "outputs": [],
   "source": [
    "df_artists = df_train.loc[:,[\"artist_name\",\"target\"]]\n",
    "\n",
    "artists1 = df_artists.groupby([\"artist_name\"],as_index=False).sum().rename(columns={\"target\":\"repeat_count\"})\n",
    "\n",
    "artists2 = df_artists.groupby([\"artist_name\"],as_index=False).count().rename(columns = {\"target\":\"play_count\"})"
   ]
  },
  {
   "cell_type": "code",
   "execution_count": 26,
   "metadata": {
    "collapsed": false
   },
   "outputs": [
    {
     "data": {
      "text/html": [
       "<div>\n",
       "<style scoped>\n",
       "    .dataframe tbody tr th:only-of-type {\n",
       "        vertical-align: middle;\n",
       "    }\n",
       "\n",
       "    .dataframe tbody tr th {\n",
       "        vertical-align: top;\n",
       "    }\n",
       "\n",
       "    .dataframe thead th {\n",
       "        text-align: right;\n",
       "    }\n",
       "</style>\n",
       "<table border=\"1\" class=\"dataframe\">\n",
       "  <thead>\n",
       "    <tr style=\"text-align: right;\">\n",
       "      <th></th>\n",
       "      <th>artist_name</th>\n",
       "      <th>repeat_count</th>\n",
       "    </tr>\n",
       "  </thead>\n",
       "  <tbody>\n",
       "    <tr>\n",
       "      <th>0</th>\n",
       "      <td>!Conz</td>\n",
       "      <td>1</td>\n",
       "    </tr>\n",
       "    <tr>\n",
       "      <th>1</th>\n",
       "      <td>!magnic!</td>\n",
       "      <td>0</td>\n",
       "    </tr>\n",
       "    <tr>\n",
       "      <th>2</th>\n",
       "      <td>#037 (#037)</td>\n",
       "      <td>20</td>\n",
       "    </tr>\n",
       "    <tr>\n",
       "      <th>3</th>\n",
       "      <td>#1 Beatles Now</td>\n",
       "      <td>7</td>\n",
       "    </tr>\n",
       "    <tr>\n",
       "      <th>4</th>\n",
       "      <td>#1 Club Hits - Best Of Dance &amp; Techno</td>\n",
       "      <td>5</td>\n",
       "    </tr>\n",
       "  </tbody>\n",
       "</table>\n",
       "</div>"
      ],
      "text/plain": [
       "                             artist_name  repeat_count\n",
       "0                                  !Conz             1\n",
       "1                               !magnic!             0\n",
       "2                            #037 (#037)            20\n",
       "3                         #1 Beatles Now             7\n",
       "4  #1 Club Hits - Best Of Dance & Techno             5"
      ]
     },
     "execution_count": 26,
     "metadata": {},
     "output_type": "execute_result"
    }
   ],
   "source": [
    "artists1.head()"
   ]
  },
  {
   "cell_type": "code",
   "execution_count": 27,
   "metadata": {
    "_cell_guid": "4188eaaf-fa9d-4816-bf8b-afc2ea44e203",
    "_uuid": "8596e9cecd6bd23290eeeb0393038edafaf11eb8",
    "collapsed": true
   },
   "outputs": [],
   "source": [
    "df_artist_repeats = artists1.merge(artists2,how=\"inner\",on=\"artist_name\")"
   ]
  },
  {
   "cell_type": "code",
   "execution_count": 28,
   "metadata": {
    "_cell_guid": "82b39c07-69e1-4916-95b8-69f021d8c7fc",
    "_uuid": "35799dce25f165363d58bf5318c9fb4963daba67",
    "collapsed": false
   },
   "outputs": [
    {
     "data": {
      "text/html": [
       "<div>\n",
       "<style scoped>\n",
       "    .dataframe tbody tr th:only-of-type {\n",
       "        vertical-align: middle;\n",
       "    }\n",
       "\n",
       "    .dataframe tbody tr th {\n",
       "        vertical-align: top;\n",
       "    }\n",
       "\n",
       "    .dataframe thead th {\n",
       "        text-align: right;\n",
       "    }\n",
       "</style>\n",
       "<table border=\"1\" class=\"dataframe\">\n",
       "  <thead>\n",
       "    <tr style=\"text-align: right;\">\n",
       "      <th></th>\n",
       "      <th>artist_name</th>\n",
       "      <th>repeat_count</th>\n",
       "      <th>play_count</th>\n",
       "    </tr>\n",
       "  </thead>\n",
       "  <tbody>\n",
       "    <tr>\n",
       "      <th>0</th>\n",
       "      <td>!Conz</td>\n",
       "      <td>1</td>\n",
       "      <td>1</td>\n",
       "    </tr>\n",
       "    <tr>\n",
       "      <th>1</th>\n",
       "      <td>!magnic!</td>\n",
       "      <td>0</td>\n",
       "      <td>1</td>\n",
       "    </tr>\n",
       "    <tr>\n",
       "      <th>2</th>\n",
       "      <td>#037 (#037)</td>\n",
       "      <td>20</td>\n",
       "      <td>84</td>\n",
       "    </tr>\n",
       "    <tr>\n",
       "      <th>3</th>\n",
       "      <td>#1 Beatles Now</td>\n",
       "      <td>7</td>\n",
       "      <td>32</td>\n",
       "    </tr>\n",
       "    <tr>\n",
       "      <th>4</th>\n",
       "      <td>#1 Club Hits - Best Of Dance &amp; Techno</td>\n",
       "      <td>5</td>\n",
       "      <td>7</td>\n",
       "    </tr>\n",
       "  </tbody>\n",
       "</table>\n",
       "</div>"
      ],
      "text/plain": [
       "                             artist_name  repeat_count  play_count\n",
       "0                                  !Conz             1           1\n",
       "1                               !magnic!             0           1\n",
       "2                            #037 (#037)            20          84\n",
       "3                         #1 Beatles Now             7          32\n",
       "4  #1 Club Hits - Best Of Dance & Techno             5           7"
      ]
     },
     "execution_count": 28,
     "metadata": {},
     "output_type": "execute_result"
    }
   ],
   "source": [
    "df_artist_repeats.head()"
   ]
  },
  {
   "cell_type": "code",
   "execution_count": 29,
   "metadata": {
    "_cell_guid": "06440f93-2b89-474f-bdf7-8569e756e282",
    "_uuid": "e137f665bb7303f80bac435ff7c33f79844dc154",
    "collapsed": true
   },
   "outputs": [],
   "source": [
    "df_artist_repeats[\"repeat_percentage\"] = round((df_artist_repeats['repeat_count']*100) / df_artist_repeats['play_count'],1)"
   ]
  },
  {
   "cell_type": "code",
   "execution_count": 30,
   "metadata": {
    "collapsed": false
   },
   "outputs": [
    {
     "data": {
      "text/html": [
       "<div>\n",
       "<style scoped>\n",
       "    .dataframe tbody tr th:only-of-type {\n",
       "        vertical-align: middle;\n",
       "    }\n",
       "\n",
       "    .dataframe tbody tr th {\n",
       "        vertical-align: top;\n",
       "    }\n",
       "\n",
       "    .dataframe thead th {\n",
       "        text-align: right;\n",
       "    }\n",
       "</style>\n",
       "<table border=\"1\" class=\"dataframe\">\n",
       "  <thead>\n",
       "    <tr style=\"text-align: right;\">\n",
       "      <th></th>\n",
       "      <th>artist_name</th>\n",
       "      <th>repeat_count</th>\n",
       "      <th>play_count</th>\n",
       "      <th>repeat_percentage</th>\n",
       "    </tr>\n",
       "  </thead>\n",
       "  <tbody>\n",
       "    <tr>\n",
       "      <th>0</th>\n",
       "      <td>!Conz</td>\n",
       "      <td>1</td>\n",
       "      <td>1</td>\n",
       "      <td>100.0</td>\n",
       "    </tr>\n",
       "    <tr>\n",
       "      <th>1</th>\n",
       "      <td>!magnic!</td>\n",
       "      <td>0</td>\n",
       "      <td>1</td>\n",
       "      <td>0.0</td>\n",
       "    </tr>\n",
       "    <tr>\n",
       "      <th>2</th>\n",
       "      <td>#037 (#037)</td>\n",
       "      <td>20</td>\n",
       "      <td>84</td>\n",
       "      <td>23.8</td>\n",
       "    </tr>\n",
       "    <tr>\n",
       "      <th>3</th>\n",
       "      <td>#1 Beatles Now</td>\n",
       "      <td>7</td>\n",
       "      <td>32</td>\n",
       "      <td>21.9</td>\n",
       "    </tr>\n",
       "    <tr>\n",
       "      <th>4</th>\n",
       "      <td>#1 Club Hits - Best Of Dance &amp; Techno</td>\n",
       "      <td>5</td>\n",
       "      <td>7</td>\n",
       "      <td>71.4</td>\n",
       "    </tr>\n",
       "  </tbody>\n",
       "</table>\n",
       "</div>"
      ],
      "text/plain": [
       "                             artist_name  repeat_count  play_count  \\\n",
       "0                                  !Conz             1           1   \n",
       "1                               !magnic!             0           1   \n",
       "2                            #037 (#037)            20          84   \n",
       "3                         #1 Beatles Now             7          32   \n",
       "4  #1 Club Hits - Best Of Dance & Techno             5           7   \n",
       "\n",
       "   repeat_percentage  \n",
       "0              100.0  \n",
       "1                0.0  \n",
       "2               23.8  \n",
       "3               21.9  \n",
       "4               71.4  "
      ]
     },
     "execution_count": 30,
     "metadata": {},
     "output_type": "execute_result"
    }
   ],
   "source": [
    "df_artist_repeats.head()"
   ]
  },
  {
   "cell_type": "code",
   "execution_count": 31,
   "metadata": {
    "_cell_guid": "8d8a3387-65b3-47ab-be7f-e38185ba7c3c",
    "_uuid": "277b8bf350dcf01fe92f9d9db79714d159778885",
    "collapsed": false
   },
   "outputs": [
    {
     "data": {
      "text/html": [
       "<div>\n",
       "<style scoped>\n",
       "    .dataframe tbody tr th:only-of-type {\n",
       "        vertical-align: middle;\n",
       "    }\n",
       "\n",
       "    .dataframe tbody tr th {\n",
       "        vertical-align: top;\n",
       "    }\n",
       "\n",
       "    .dataframe thead th {\n",
       "        text-align: right;\n",
       "    }\n",
       "</style>\n",
       "<table border=\"1\" class=\"dataframe\">\n",
       "  <thead>\n",
       "    <tr style=\"text-align: right;\">\n",
       "      <th></th>\n",
       "      <th>artist_name</th>\n",
       "      <th>repeat_count</th>\n",
       "      <th>play_count</th>\n",
       "      <th>repeat_percentage</th>\n",
       "    </tr>\n",
       "  </thead>\n",
       "  <tbody>\n",
       "    <tr>\n",
       "      <th>0</th>\n",
       "      <td>!Conz</td>\n",
       "      <td>1</td>\n",
       "      <td>1</td>\n",
       "      <td>100.0</td>\n",
       "    </tr>\n",
       "    <tr>\n",
       "      <th>1</th>\n",
       "      <td>!magnic!</td>\n",
       "      <td>0</td>\n",
       "      <td>1</td>\n",
       "      <td>0.0</td>\n",
       "    </tr>\n",
       "    <tr>\n",
       "      <th>2</th>\n",
       "      <td>#037 (#037)</td>\n",
       "      <td>20</td>\n",
       "      <td>84</td>\n",
       "      <td>23.8</td>\n",
       "    </tr>\n",
       "    <tr>\n",
       "      <th>3</th>\n",
       "      <td>#1 Beatles Now</td>\n",
       "      <td>7</td>\n",
       "      <td>32</td>\n",
       "      <td>21.9</td>\n",
       "    </tr>\n",
       "    <tr>\n",
       "      <th>4</th>\n",
       "      <td>#1 Club Hits - Best Of Dance &amp; Techno</td>\n",
       "      <td>5</td>\n",
       "      <td>7</td>\n",
       "      <td>71.4</td>\n",
       "    </tr>\n",
       "  </tbody>\n",
       "</table>\n",
       "</div>"
      ],
      "text/plain": [
       "                             artist_name  repeat_count  play_count  \\\n",
       "0                                  !Conz             1           1   \n",
       "1                               !magnic!             0           1   \n",
       "2                            #037 (#037)            20          84   \n",
       "3                         #1 Beatles Now             7          32   \n",
       "4  #1 Club Hits - Best Of Dance & Techno             5           7   \n",
       "\n",
       "   repeat_percentage  \n",
       "0              100.0  \n",
       "1                0.0  \n",
       "2               23.8  \n",
       "3               21.9  \n",
       "4               71.4  "
      ]
     },
     "execution_count": 31,
     "metadata": {},
     "output_type": "execute_result"
    }
   ],
   "source": [
    "df_artist_repeats.head()"
   ]
  },
  {
   "cell_type": "code",
   "execution_count": 32,
   "metadata": {
    "_cell_guid": "cc9b240d-fcc5-4841-828a-791d3ee02175",
    "_uuid": "37463320e1e3d184cb73d832712f62ded6f90394",
    "collapsed": true
   },
   "outputs": [],
   "source": [
    "df_artist_repeats.drop([\"repeat_count\",\"play_count\"],axis=1,inplace=True)"
   ]
  },
  {
   "cell_type": "code",
   "execution_count": 33,
   "metadata": {
    "_cell_guid": "714eb20c-f28f-47f4-865f-55e6cbc2f2e6",
    "_uuid": "e391157bd7ca80f932afc370fee6a37ffa79d854",
    "collapsed": true
   },
   "outputs": [],
   "source": [
    "df_train = df_train.merge(df_artist_repeats,on=\"artist_name\",how=\"left\").rename(columns={\"repeat_percentage\":\"artist_repeat_percentage\"})"
   ]
  },
  {
   "cell_type": "code",
   "execution_count": 34,
   "metadata": {
    "_cell_guid": "22c23a1a-9e83-4db1-97d5-2aab05fe7e28",
    "_uuid": "039afb8614adad72c1faf64f6e6dc666c7acd4ae",
    "collapsed": true
   },
   "outputs": [],
   "source": [
    "df_test = df_test.merge(df_artist_repeats,on=\"artist_name\",how=\"left\").rename(columns={\"repeat_percentage\":\"artist_repeat_percentage\"})"
   ]
  },
  {
   "cell_type": "code",
   "execution_count": 35,
   "metadata": {
    "_cell_guid": "0176afab-13e4-4db3-89be-7afc73804939",
    "_uuid": "6eecce7928c791ec07532155b93e541621b7520a",
    "collapsed": true
   },
   "outputs": [],
   "source": [
    "df_train.drop([\"genre_ids\",\"artist_name\"],axis=1,inplace=True)\n",
    "\n",
    "df_test.drop([\"genre_ids\",\"artist_name\"],axis=1,inplace=True)"
   ]
  },
  {
   "cell_type": "code",
   "execution_count": 36,
   "metadata": {
    "_cell_guid": "57e24923-1462-4285-bdb4-ea1093318211",
    "_uuid": "cbb8504db58875de0c798d3c544f7ff1d1628815",
    "collapsed": true
   },
   "outputs": [],
   "source": [
    "del df_artist_repeats\n",
    "del df_artists"
   ]
  },
  {
   "cell_type": "markdown",
   "metadata": {
    "_cell_guid": "847f7903-0a7a-4fb9-8db1-45e38166f9fe",
    "_uuid": "d16cb1e66a425209a4dee8f9ab7c907b72a973e7"
   },
   "source": [
    "**Composers**"
   ]
  },
  {
   "cell_type": "code",
   "execution_count": 37,
   "metadata": {
    "_cell_guid": "c03fd148-a10a-45ae-a63a-38b59c73563f",
    "_uuid": "a0a6b63e3ea678e821b48254502d79d8214f9ff0",
    "collapsed": true
   },
   "outputs": [],
   "source": [
    "df_train['composer'] = df_train['composer'].str.split(\"|\") \n",
    "\n",
    "df_test['composer'] = df_test['composer'].str.split(\"|\") "
   ]
  },
  {
   "cell_type": "code",
   "execution_count": 38,
   "metadata": {
    "_cell_guid": "b6a6c3d6-448c-4405-a273-f4d467a2257c",
    "_uuid": "2e21eab9e5820879349f171ed3fa9eed5bfde6d8",
    "collapsed": true
   },
   "outputs": [],
   "source": [
    "df_train['composer_count'] = df_train['composer'].apply(lambda x : len(x) if \"Unknown\" not in x else 0 )\n",
    "\n",
    "df_test['composer_count'] = df_test['composer'].apply(lambda x : len(x) if \"Unknown\" not in x else 0 )"
   ]
  },
  {
   "cell_type": "code",
   "execution_count": 39,
   "metadata": {
    "_cell_guid": "2bd42a5a-065a-4602-bdce-48f4d0ad4ec2",
    "_uuid": "1f8603320468900ba689e556e8ccfce8d89a77a1",
    "collapsed": false
   },
   "outputs": [
    {
     "data": {
      "text/plain": [
       "my library      3684730\n",
       "discover        2179252\n",
       "search           623286\n",
       "radio            476701\n",
       "listen with      212266\n",
       "explore          167949\n",
       "Unknown           24849\n",
       "notification       6185\n",
       "settings           2200\n",
       "Name: source_system_tab, dtype: int64"
      ]
     },
     "execution_count": 39,
     "metadata": {},
     "output_type": "execute_result"
    }
   ],
   "source": [
    "df_train['source_system_tab'].value_counts()"
   ]
  },
  {
   "cell_type": "code",
   "execution_count": 40,
   "metadata": {
    "_cell_guid": "5f83b683-bbd8-440f-b452-bb051e13ed85",
    "_uuid": "87207cc03d7e022d1f07a800b2c5d3d062ce0e3b",
    "collapsed": true
   },
   "outputs": [],
   "source": [
    "source_tab_dict = {\"my library\":8,\"discover\":7,\"search\":6,\"radio\":5,\"listen with\":4,\"explore\":3,\"notification\":2,\"settings\":1,\"Unknown\":0 }\n",
    "\n",
    "source_screen_name_dict = {\"Local playlist more\":19,\"Online playlist more\":18,\"Radio\":17,\"Unknown\":16,\"Album more\":15,\"Search\":14,\"Artist more\":13,\"Discover Feature\":12,\"Discover Chart\":11,\"Others profile more\":10,\"Discover Genre\":9,\"My library\":8,\"Explore\":7,\"Discover New\":6,\"Search Trends\":5,\"Search Home\":4,\"My library_Search\":3,\"Self profile more\":2,\"Concert\":1,\"Payment\":0}\n",
    "\n",
    "source_type_dict = {\"local-library\":12,\"online-playlist\":11,\"local-playlist\":10,\"radio\":9,\"album\":8,\"top-hits-for-artist\":7,\"song\":6,\"song-based-playlist\":5,\"listen-with\":4,\"Unknown\":3,\"topic-article-playlist\":2,\"artist\":1,\"my-daily-playlist\":0}\n"
   ]
  },
  {
   "cell_type": "code",
   "execution_count": 41,
   "metadata": {
    "_cell_guid": "f4e13a8d-62ee-41bb-8bde-9cf9ed5be6a2",
    "_uuid": "2dc0c85187e56c15fc2f2f55a6ec7c69994b6cb2",
    "collapsed": true
   },
   "outputs": [],
   "source": [
    "df_train['source_system_tab'] = df_train['source_system_tab'].map(source_tab_dict)\n",
    "\n",
    "df_test['source_system_tab'] = df_test['source_system_tab'].map(source_tab_dict)"
   ]
  },
  {
   "cell_type": "code",
   "execution_count": 42,
   "metadata": {
    "_cell_guid": "8a8b9ee9-e8ae-4c97-9bb1-f27a216d3dc6",
    "_uuid": "3a2d33dc1d50072b100e0bedd0af6171f8a9d329",
    "collapsed": true
   },
   "outputs": [],
   "source": [
    "df_train['source_type'] = df_train['source_type'].map(source_type_dict)\n",
    "df_test['source_type'] = df_test['source_type'].map(source_type_dict)"
   ]
  },
  {
   "cell_type": "code",
   "execution_count": 43,
   "metadata": {
    "_cell_guid": "f88437ea-8f9b-4459-abbf-63019285b2f4",
    "_uuid": "cb6789748cbf48b88faf327d9193f8c95f6845d2",
    "collapsed": true
   },
   "outputs": [],
   "source": [
    "df_train['source_screen_name'] = df_train['source_screen_name'].map(source_screen_name_dict)\n",
    "df_test['source_screen_name'] = df_test['source_screen_name'].map(source_screen_name_dict)"
   ]
  },
  {
   "cell_type": "code",
   "execution_count": 44,
   "metadata": {
    "_cell_guid": "da84b5e0-043e-4327-b14a-e5311561ffe4",
    "_uuid": "8b3b0f82053eacf64f38f7bad0c6d1ba48909967",
    "collapsed": true
   },
   "outputs": [],
   "source": [
    "gender_train = pd.get_dummies(df_train['gender'],drop_first=True)\n",
    "\n",
    "gender_test = pd.get_dummies(df_test['gender'],drop_first=True)"
   ]
  },
  {
   "cell_type": "code",
   "execution_count": 45,
   "metadata": {
    "_cell_guid": "6fc1f6ab-5a90-4a85-b0f1-2e22ddeeef07",
    "_uuid": "7125f13a5e4599450dd9e0ed6bac1e757704e77d",
    "collapsed": true
   },
   "outputs": [],
   "source": [
    "df_train = pd.concat([df_train,gender_train],axis=1)\n",
    "df_test = pd.concat([df_test,gender_test],axis=1)"
   ]
  },
  {
   "cell_type": "code",
   "execution_count": 46,
   "metadata": {
    "_cell_guid": "febb5adf-734d-4319-a68c-bd81c9fa5db0",
    "_uuid": "9c2bcb89e3fb146650d18df05eefc9511963f2a9",
    "collapsed": true
   },
   "outputs": [],
   "source": [
    "df_train.drop([\"composer\",\"gender\"],axis=1,inplace=True)\n",
    "df_test.drop([\"composer\",\"gender\"],axis=1,inplace=True)"
   ]
  },
  {
   "cell_type": "code",
   "execution_count": 47,
   "metadata": {
    "_cell_guid": "c1624284-df7a-48ee-b718-9a42e2fef95b",
    "_uuid": "74441ca4fcc46337e8a45d4d6f4ae00b089d92ab",
    "collapsed": true
   },
   "outputs": [],
   "source": [
    "df_train['validity_days'] = (df_train['expiration_date'] - df_train['registration_init_time']).dt.days\n",
    "\n",
    "df_test['validity_days'] = (df_test['expiration_date'] - df_test['registration_init_time']).dt.days"
   ]
  },
  {
   "cell_type": "code",
   "execution_count": 48,
   "metadata": {
    "_cell_guid": "9d39efaa-097a-4300-a7dc-7d1f4a045f35",
    "_uuid": "80afd39e48cd34339749a7a54d50093af6861d77",
    "collapsed": true
   },
   "outputs": [],
   "source": [
    "df_train.drop([\"registration_init_time\",\"expiration_date\"],axis=1,inplace=True)\n",
    "\n",
    "df_test.drop([\"registration_init_time\",\"expiration_date\"],axis=1,inplace=True)"
   ]
  },
  {
   "cell_type": "code",
   "execution_count": 49,
   "metadata": {
    "_cell_guid": "d10481d8-5d37-4b69-8a03-6e7a1cc113c0",
    "_uuid": "cf6160a23ad3a27db649418cf05aa7729d73a564",
    "collapsed": true
   },
   "outputs": [],
   "source": [
    "df_train['lyricist'] = df_train['lyricist'].str.split(\"|\")\n",
    "df_test['lyricist'] = df_test['lyricist'].str.split(\"|\")"
   ]
  },
  {
   "cell_type": "code",
   "execution_count": 50,
   "metadata": {
    "_cell_guid": "f23ea795-cb58-437c-98df-7e650316b9df",
    "_uuid": "fea708201b7ee12138b1dad16446e540964c785f",
    "collapsed": true
   },
   "outputs": [],
   "source": [
    "df_train['lyricist_count'] = df_train['lyricist'].apply(lambda x : len(x) if \"Unknown\" not in x else 0 )\n",
    "\n",
    "df_test['lyricist_count'] = df_test['lyricist'].apply(lambda x : len(x) if \"Unknown\" not in x else 0 )"
   ]
  },
  {
   "cell_type": "code",
   "execution_count": 51,
   "metadata": {
    "_cell_guid": "cd80e974-13d4-4eeb-9be0-9ae6d1dfc11c",
    "_uuid": "2d88b1a9e657095201cc66e6399603c5701515fb",
    "collapsed": false
   },
   "outputs": [],
   "source": [
    "df_test['artist_repeat_percentage'].fillna(value=0.0,inplace=True)"
   ]
  },
  {
   "cell_type": "code",
   "execution_count": 52,
   "metadata": {
    "_cell_guid": "228cee29-2e5e-4c90-b95a-daed1e4b8b76",
    "_uuid": "ea03009aafdf677f6b2f4223271415e38d223a6d",
    "collapsed": true
   },
   "outputs": [],
   "source": [
    "df_test['source_screen_name'].fillna(df_test['source_screen_name'].mode()[0],inplace=True)"
   ]
  },
  {
   "cell_type": "code",
   "execution_count": 53,
   "metadata": {
    "_cell_guid": "a10c3493-ed10-4997-884d-9b3334551d0a",
    "_uuid": "6aa69895f5e0d3beb080e989a235068b51058932",
    "collapsed": true
   },
   "outputs": [],
   "source": [
    "df_train.drop(\"lyricist\",axis=1,inplace=True)\n",
    "\n",
    "df_test.drop(\"lyricist\",axis=1,inplace=True)"
   ]
  },
  {
   "cell_type": "code",
   "execution_count": 54,
   "metadata": {
    "_cell_guid": "f7822c81-3a8b-406e-a2d5-c4fd8625ab20",
    "_uuid": "8a1e918bcfbc8da8abbf9a01fb17b8a573fd22b0",
    "collapsed": true
   },
   "outputs": [],
   "source": [
    "df_songs_extra.drop(\"name\",axis=1,inplace=True)"
   ]
  },
  {
   "cell_type": "code",
   "execution_count": 55,
   "metadata": {
    "_cell_guid": "4c44e8d6-38d6-4dd4-9d26-7f2a3181eead",
    "_uuid": "16da8371863f89062eee31bc78b294514b783da7",
    "collapsed": true
   },
   "outputs": [],
   "source": [
    "df_train = df_train.merge(df_songs_extra,how=\"left\",on=\"song_id\")"
   ]
  },
  {
   "cell_type": "code",
   "execution_count": 56,
   "metadata": {
    "_cell_guid": "6d09a759-fd75-4265-a8e3-60e49a8cb1d5",
    "_uuid": "3360d854c88352e35276bdec0956faef525031a4",
    "collapsed": true
   },
   "outputs": [],
   "source": [
    "df_test = df_test.merge(df_songs_extra,how=\"left\",on=\"song_id\")"
   ]
  },
  {
   "cell_type": "code",
   "execution_count": 57,
   "metadata": {
    "_cell_guid": "dd168c08-65cb-437c-b5b4-d494970a2507",
    "_uuid": "b64c279a1f045b3b9bb09a09bababaf5584385fe",
    "collapsed": true
   },
   "outputs": [],
   "source": [
    "def isrc_to_year(isrc):\n",
    "    if type(isrc) == str:\n",
    "        if int(isrc[5:7]) > 17:\n",
    "            return 1900 + int(isrc[5:7])\n",
    "        else:\n",
    "            return 2000 + int(isrc[5:7])\n",
    "    else:\n",
    "        return np.nan"
   ]
  },
  {
   "cell_type": "code",
   "execution_count": 58,
   "metadata": {
    "_cell_guid": "9df350f0-b181-4c82-a2ca-5b277b45b2c4",
    "_uuid": "0977a4dc20a4247c6bd84f6b0511361beef964b1",
    "collapsed": true
   },
   "outputs": [],
   "source": [
    "df_train['song_year'] = df_train['isrc'].apply(isrc_to_year)\n",
    "\n",
    "df_test['song_year'] = df_test['isrc'].apply(isrc_to_year)"
   ]
  },
  {
   "cell_type": "code",
   "execution_count": 59,
   "metadata": {
    "_cell_guid": "8e2beda3-d199-471c-bd55-f333bcf594be",
    "_uuid": "5db438f3fb88e57d11dd1b9b25dda2df2d74079a",
    "collapsed": true
   },
   "outputs": [],
   "source": [
    "df_train.drop(\"isrc\",axis=1,inplace=True)\n",
    "\n",
    "df_test.drop(\"isrc\",axis=1,inplace=True)"
   ]
  },
  {
   "cell_type": "code",
   "execution_count": 60,
   "metadata": {
    "_cell_guid": "c1fd657a-0aa9-4116-b9a3-f499b554031e",
    "_uuid": "6ce71fb6b6d3ea809d8e6960bd0011500d14ecca",
    "collapsed": true
   },
   "outputs": [],
   "source": [
    "df_train['song_year'].fillna(value=-1,inplace=True)\n",
    "\n",
    "df_test['song_year'].fillna(value=-1,inplace=True)"
   ]
  },
  {
   "cell_type": "code",
   "execution_count": 61,
   "metadata": {
    "_cell_guid": "fd44a946-989e-4146-b7ac-63f7138ebab5",
    "_uuid": "19fed010df11e9c8c25eace5c34d9c3ceb6234c8",
    "collapsed": true
   },
   "outputs": [],
   "source": [
    "df_train['song_year'] = df_train['song_year'].astype(\"int\")\n",
    "\n",
    "df_test['song_year'] = df_test['song_year'].astype(\"int\")"
   ]
  },
  {
   "cell_type": "code",
   "execution_count": 62,
   "metadata": {
    "_cell_guid": "86970716-445f-46bf-9823-cf50fda4cc86",
    "_uuid": "67e18e841aa47b676c8b049efa84b3ce669955dc",
    "collapsed": true
   },
   "outputs": [],
   "source": [
    "df_train['source_system_tab'] = df_train['source_system_tab'].astype(\"category\")\n",
    "df_test['source_system_tab'] = df_test['source_system_tab'].astype(\"category\")\n",
    "\n",
    "df_train['source_screen_name'] = df_train['source_screen_name'].astype(\"category\")\n",
    "df_test['source_screen_name'] = df_test['source_screen_name'].astype(\"category\")\n",
    "\n",
    "df_train['source_type'] = df_train['source_type'].astype(\"category\")\n",
    "df_test['source_type'] = df_test['source_type'].astype(\"category\")\n",
    "\n",
    "df_train['language'] = df_train['language'].astype(\"category\")\n",
    "df_test['language'] = df_test['language'].astype(\"category\")\n",
    "\n",
    "df_train['city'] = df_train['city'].astype(\"category\")\n",
    "df_test['city'] = df_test['city'].astype(\"category\")\n",
    "\n",
    "\n",
    "df_train['registered_via'] = df_train['registered_via'].astype(\"category\")\n",
    "df_test['registered_via'] = df_test['registered_via'].astype(\"category\")\n"
   ]
  },
  {
   "cell_type": "code",
   "execution_count": 63,
   "metadata": {
    "_cell_guid": "41b41da0-d298-44b9-9a3a-8dc64697ea87",
    "_uuid": "5e0e61ad8cf7f9691d4558e1003cac7635501d7a",
    "collapsed": true
   },
   "outputs": [],
   "source": [
    "X = df_train.drop([\"msno\",\"song_id\",\"target\",\"genre_count\"],axis=1).values\n",
    "\n",
    "y = df_train['target'].values\n",
    "X_train = X[:1000000]\n",
    "y_train = y[:1000000]\n",
    "X_valid = X[1000000:]\n",
    "y_valid = y[1000000:]"
   ]
  },
  {
   "cell_type": "code",
   "execution_count": 64,
   "metadata": {
    "_cell_guid": "24bd0dd1-9394-4b33-aad8-c83c94b98273",
    "_uuid": "63d7df45004db1ca0cf17b23cccef904dd62beb3",
    "collapsed": true
   },
   "outputs": [],
   "source": [
    "import lightgbm as lgb\n",
    "\n",
    "d_train = lgb.Dataset(X_train, y_train)\n",
    "d_valid = lgb.Dataset(X_valid,y_valid)\n",
    "watchlist = [d_valid]\n",
    "d = lgb.Dataset(X,y)"
   ]
  },
  {
   "cell_type": "code",
   "execution_count": 65,
   "metadata": {
    "_cell_guid": "25941bef-eaf2-440a-9a55-954508fff472",
    "_uuid": "15ab51bca1f11ea37095059f724ea87aa7d75bfd",
    "collapsed": true
   },
   "outputs": [],
   "source": [
    "params = {}\n",
    "params['learning_rate'] = 0.6\n",
    "params['application'] = 'binary'\n",
    "params['max_depth'] = 20\n",
    "params['num_leaves'] = 2**5\n",
    "params['verbosity'] = 0\n",
    "params['metric'] = 'auc'\n",
    "#params['boosting_type']= 'gbdt'"
   ]
  },
  {
   "cell_type": "code",
   "execution_count": 66,
   "metadata": {
    "_cell_guid": "1ea1427e-ef46-4800-9d8d-79497ccd9cdc",
    "_uuid": "541cd95af613594809a2a54d15471ca260acfef1",
    "collapsed": false
   },
   "outputs": [],
   "source": [
    "#model = lgb.train(params, train_set=d, num_boost_round=60, valid_sets=watchlist, \\\n",
    "#verbose_eval=5)"
   ]
  },
  {
   "cell_type": "code",
   "execution_count": 67,
   "metadata": {
    "collapsed": false
   },
   "outputs": [
    {
     "name": "stdout",
     "output_type": "stream",
     "text": [
      "[5]\tvalid_0's auc: 0.674108\n",
      "[10]\tvalid_0's auc: 0.679197\n",
      "[15]\tvalid_0's auc: 0.681873\n",
      "[20]\tvalid_0's auc: 0.685114\n",
      "[25]\tvalid_0's auc: 0.687648\n",
      "[30]\tvalid_0's auc: 0.689203\n",
      "[35]\tvalid_0's auc: 0.691205\n",
      "[40]\tvalid_0's auc: 0.692892\n",
      "[45]\tvalid_0's auc: 0.694716\n",
      "[50]\tvalid_0's auc: 0.696484\n",
      "[55]\tvalid_0's auc: 0.697765\n",
      "[60]\tvalid_0's auc: 0.69903\n"
     ]
    }
   ],
   "source": [
    "model = lgb.train(params, train_set=d, num_boost_round=60, valid_sets=watchlist, \\\n",
    "verbose_eval=5)\n",
    "from sklearn.externals import joblib\n",
    "joblib.dump(model, 'lgb.pkl')\n",
    "model = joblib.load('lgb.pkl')"
   ]
  },
  {
   "cell_type": "code",
   "execution_count": 68,
   "metadata": {
    "_cell_guid": "3512aff3-192f-4ba8-a9b6-49b221c5a61a",
    "_uuid": "7ee87272a9802079d94efb64a6f704b217ada478",
    "collapsed": true
   },
   "outputs": [],
   "source": [
    "song_ids = df_test['id'].values\n",
    "\n",
    "X_test = df_test.drop([\"msno\",\"song_id\",\"id\",\"genre_count\"],axis=1).values"
   ]
  },
  {
   "cell_type": "code",
   "execution_count": null,
   "metadata": {
    "_cell_guid": "815a12c1-6ec6-4790-83b7-c0e24b364873",
    "_uuid": "8214a9fd260d2c080bcab4224c85f4bdc2183dcc",
    "collapsed": false
   },
   "outputs": [],
   "source": []
  },
  {
   "cell_type": "code",
   "execution_count": 69,
   "metadata": {
    "collapsed": false
   },
   "outputs": [],
   "source": [
    "#testfeature = model.predict(X_test,pred_leaf=True)\n",
    "#trainfeature = model.predict(X,pred_leaf=True)"
   ]
  },
  {
   "cell_type": "code",
   "execution_count": 70,
   "metadata": {
    "collapsed": false
   },
   "outputs": [
    {
     "data": {
      "text/html": [
       "<div>\n",
       "<style scoped>\n",
       "    .dataframe tbody tr th:only-of-type {\n",
       "        vertical-align: middle;\n",
       "    }\n",
       "\n",
       "    .dataframe tbody tr th {\n",
       "        vertical-align: top;\n",
       "    }\n",
       "\n",
       "    .dataframe thead th {\n",
       "        text-align: right;\n",
       "    }\n",
       "</style>\n",
       "<table border=\"1\" class=\"dataframe\">\n",
       "  <thead>\n",
       "    <tr style=\"text-align: right;\">\n",
       "      <th></th>\n",
       "      <th>msno</th>\n",
       "      <th>song_id</th>\n",
       "      <th>source_system_tab</th>\n",
       "      <th>source_screen_name</th>\n",
       "      <th>source_type</th>\n",
       "      <th>target</th>\n",
       "      <th>song_length</th>\n",
       "      <th>language</th>\n",
       "      <th>city</th>\n",
       "      <th>bd</th>\n",
       "      <th>registered_via</th>\n",
       "      <th>genre_ids_new</th>\n",
       "      <th>genre_count</th>\n",
       "      <th>artist_repeat_percentage</th>\n",
       "      <th>composer_count</th>\n",
       "      <th>female</th>\n",
       "      <th>male</th>\n",
       "      <th>validity_days</th>\n",
       "      <th>lyricist_count</th>\n",
       "      <th>song_year</th>\n",
       "    </tr>\n",
       "  </thead>\n",
       "  <tbody>\n",
       "    <tr>\n",
       "      <th>0</th>\n",
       "      <td>FGtllVqz18RPiwJj/edr2gV78zirAiY/9SmYvia+kCg=</td>\n",
       "      <td>BBzumQNXUHKdEBOB7mAJuzok+IJA1c2Ryg/yzTF6tik=</td>\n",
       "      <td>3</td>\n",
       "      <td>7</td>\n",
       "      <td>11</td>\n",
       "      <td>1</td>\n",
       "      <td>206471.0</td>\n",
       "      <td>52.0</td>\n",
       "      <td>1</td>\n",
       "      <td>0</td>\n",
       "      <td>7</td>\n",
       "      <td>0</td>\n",
       "      <td>1</td>\n",
       "      <td>46.3</td>\n",
       "      <td>2</td>\n",
       "      <td>0</td>\n",
       "      <td>0</td>\n",
       "      <td>2103</td>\n",
       "      <td>0</td>\n",
       "      <td>2016</td>\n",
       "    </tr>\n",
       "    <tr>\n",
       "      <th>1</th>\n",
       "      <td>Xumu+NIjS6QYVxDS4/t3SawvJ7viT9hPKXmf0RtLNx8=</td>\n",
       "      <td>bhp/MpSNoqoxOIB+/l8WPqu6jldth4DIpCm3ayXnJqM=</td>\n",
       "      <td>8</td>\n",
       "      <td>19</td>\n",
       "      <td>10</td>\n",
       "      <td>1</td>\n",
       "      <td>284584.0</td>\n",
       "      <td>52.0</td>\n",
       "      <td>13</td>\n",
       "      <td>24</td>\n",
       "      <td>9</td>\n",
       "      <td>1</td>\n",
       "      <td>1</td>\n",
       "      <td>51.0</td>\n",
       "      <td>0</td>\n",
       "      <td>1</td>\n",
       "      <td>0</td>\n",
       "      <td>2301</td>\n",
       "      <td>0</td>\n",
       "      <td>1999</td>\n",
       "    </tr>\n",
       "    <tr>\n",
       "      <th>2</th>\n",
       "      <td>Xumu+NIjS6QYVxDS4/t3SawvJ7viT9hPKXmf0RtLNx8=</td>\n",
       "      <td>JNWfrrC7zNN7BdMpsISKa4Mw+xVJYNnxXh3/Epw7QgY=</td>\n",
       "      <td>8</td>\n",
       "      <td>19</td>\n",
       "      <td>10</td>\n",
       "      <td>1</td>\n",
       "      <td>225396.0</td>\n",
       "      <td>52.0</td>\n",
       "      <td>13</td>\n",
       "      <td>24</td>\n",
       "      <td>9</td>\n",
       "      <td>1</td>\n",
       "      <td>1</td>\n",
       "      <td>21.5</td>\n",
       "      <td>1</td>\n",
       "      <td>1</td>\n",
       "      <td>0</td>\n",
       "      <td>2301</td>\n",
       "      <td>0</td>\n",
       "      <td>2006</td>\n",
       "    </tr>\n",
       "    <tr>\n",
       "      <th>3</th>\n",
       "      <td>Xumu+NIjS6QYVxDS4/t3SawvJ7viT9hPKXmf0RtLNx8=</td>\n",
       "      <td>2A87tzfnJTSWqD7gIZHisolhe4DMdzkbd6LzO1KHjNs=</td>\n",
       "      <td>8</td>\n",
       "      <td>19</td>\n",
       "      <td>10</td>\n",
       "      <td>1</td>\n",
       "      <td>255512.0</td>\n",
       "      <td>-1.0</td>\n",
       "      <td>13</td>\n",
       "      <td>24</td>\n",
       "      <td>9</td>\n",
       "      <td>2</td>\n",
       "      <td>1</td>\n",
       "      <td>100.0</td>\n",
       "      <td>1</td>\n",
       "      <td>1</td>\n",
       "      <td>0</td>\n",
       "      <td>2301</td>\n",
       "      <td>0</td>\n",
       "      <td>2010</td>\n",
       "    </tr>\n",
       "    <tr>\n",
       "      <th>4</th>\n",
       "      <td>FGtllVqz18RPiwJj/edr2gV78zirAiY/9SmYvia+kCg=</td>\n",
       "      <td>3qm6XTZ6MOCU11x8FIVbAGH5l5uMkT3/ZalWG1oo2Gc=</td>\n",
       "      <td>3</td>\n",
       "      <td>7</td>\n",
       "      <td>11</td>\n",
       "      <td>1</td>\n",
       "      <td>187802.0</td>\n",
       "      <td>52.0</td>\n",
       "      <td>1</td>\n",
       "      <td>0</td>\n",
       "      <td>7</td>\n",
       "      <td>3</td>\n",
       "      <td>1</td>\n",
       "      <td>37.7</td>\n",
       "      <td>3</td>\n",
       "      <td>0</td>\n",
       "      <td>0</td>\n",
       "      <td>2103</td>\n",
       "      <td>0</td>\n",
       "      <td>2016</td>\n",
       "    </tr>\n",
       "  </tbody>\n",
       "</table>\n",
       "</div>"
      ],
      "text/plain": [
       "                                           msno  \\\n",
       "0  FGtllVqz18RPiwJj/edr2gV78zirAiY/9SmYvia+kCg=   \n",
       "1  Xumu+NIjS6QYVxDS4/t3SawvJ7viT9hPKXmf0RtLNx8=   \n",
       "2  Xumu+NIjS6QYVxDS4/t3SawvJ7viT9hPKXmf0RtLNx8=   \n",
       "3  Xumu+NIjS6QYVxDS4/t3SawvJ7viT9hPKXmf0RtLNx8=   \n",
       "4  FGtllVqz18RPiwJj/edr2gV78zirAiY/9SmYvia+kCg=   \n",
       "\n",
       "                                        song_id source_system_tab  \\\n",
       "0  BBzumQNXUHKdEBOB7mAJuzok+IJA1c2Ryg/yzTF6tik=                 3   \n",
       "1  bhp/MpSNoqoxOIB+/l8WPqu6jldth4DIpCm3ayXnJqM=                 8   \n",
       "2  JNWfrrC7zNN7BdMpsISKa4Mw+xVJYNnxXh3/Epw7QgY=                 8   \n",
       "3  2A87tzfnJTSWqD7gIZHisolhe4DMdzkbd6LzO1KHjNs=                 8   \n",
       "4  3qm6XTZ6MOCU11x8FIVbAGH5l5uMkT3/ZalWG1oo2Gc=                 3   \n",
       "\n",
       "  source_screen_name source_type  target  song_length language city  bd  \\\n",
       "0                  7          11       1     206471.0     52.0    1   0   \n",
       "1                 19          10       1     284584.0     52.0   13  24   \n",
       "2                 19          10       1     225396.0     52.0   13  24   \n",
       "3                 19          10       1     255512.0     -1.0   13  24   \n",
       "4                  7          11       1     187802.0     52.0    1   0   \n",
       "\n",
       "  registered_via  genre_ids_new  genre_count  artist_repeat_percentage  \\\n",
       "0              7              0            1                      46.3   \n",
       "1              9              1            1                      51.0   \n",
       "2              9              1            1                      21.5   \n",
       "3              9              2            1                     100.0   \n",
       "4              7              3            1                      37.7   \n",
       "\n",
       "   composer_count  female  male  validity_days  lyricist_count  song_year  \n",
       "0               2       0     0           2103               0       2016  \n",
       "1               0       1     0           2301               0       1999  \n",
       "2               1       1     0           2301               0       2006  \n",
       "3               1       1     0           2301               0       2010  \n",
       "4               3       0     0           2103               0       2016  "
      ]
     },
     "execution_count": 70,
     "metadata": {},
     "output_type": "execute_result"
    }
   ],
   "source": [
    "df_train.head()"
   ]
  },
  {
   "cell_type": "code",
   "execution_count": 72,
   "metadata": {
    "collapsed": false
   },
   "outputs": [],
   "source": [
    "#testfeature"
   ]
  },
  {
   "cell_type": "code",
   "execution_count": 73,
   "metadata": {
    "collapsed": false
   },
   "outputs": [
    {
     "data": {
      "text/plain": [
       "array([ 98, 112, 147,  97,  51, 183, 265,  82,  40, 172,  18,  35,  27,\n",
       "       432,  20,  81])"
      ]
     },
     "execution_count": 73,
     "metadata": {},
     "output_type": "execute_result"
    }
   ],
   "source": [
    "model.feature_importance()"
   ]
  },
  {
   "cell_type": "code",
   "execution_count": 74,
   "metadata": {
    "collapsed": false,
    "scrolled": false
   },
   "outputs": [
    {
     "data": {
      "text/html": [
       "<div>\n",
       "<style scoped>\n",
       "    .dataframe tbody tr th:only-of-type {\n",
       "        vertical-align: middle;\n",
       "    }\n",
       "\n",
       "    .dataframe tbody tr th {\n",
       "        vertical-align: top;\n",
       "    }\n",
       "\n",
       "    .dataframe thead th {\n",
       "        text-align: right;\n",
       "    }\n",
       "</style>\n",
       "<table border=\"1\" class=\"dataframe\">\n",
       "  <thead>\n",
       "    <tr style=\"text-align: right;\">\n",
       "      <th></th>\n",
       "      <th>source_system_tab</th>\n",
       "      <th>source_screen_name</th>\n",
       "      <th>source_type</th>\n",
       "      <th>song_length</th>\n",
       "      <th>language</th>\n",
       "      <th>city</th>\n",
       "      <th>bd</th>\n",
       "      <th>registered_via</th>\n",
       "      <th>genre_ids_new</th>\n",
       "      <th>genre_count</th>\n",
       "      <th>artist_repeat_percentage</th>\n",
       "      <th>composer_count</th>\n",
       "      <th>female</th>\n",
       "      <th>male</th>\n",
       "      <th>validity_days</th>\n",
       "      <th>lyricist_count</th>\n",
       "      <th>song_year</th>\n",
       "    </tr>\n",
       "  </thead>\n",
       "  <tbody>\n",
       "    <tr>\n",
       "      <th>0</th>\n",
       "      <td>3</td>\n",
       "      <td>7</td>\n",
       "      <td>11</td>\n",
       "      <td>206471.0</td>\n",
       "      <td>52.0</td>\n",
       "      <td>1</td>\n",
       "      <td>0</td>\n",
       "      <td>7</td>\n",
       "      <td>0</td>\n",
       "      <td>1</td>\n",
       "      <td>46.3</td>\n",
       "      <td>2</td>\n",
       "      <td>0</td>\n",
       "      <td>0</td>\n",
       "      <td>2103</td>\n",
       "      <td>0</td>\n",
       "      <td>2016</td>\n",
       "    </tr>\n",
       "    <tr>\n",
       "      <th>1</th>\n",
       "      <td>8</td>\n",
       "      <td>19</td>\n",
       "      <td>10</td>\n",
       "      <td>284584.0</td>\n",
       "      <td>52.0</td>\n",
       "      <td>13</td>\n",
       "      <td>24</td>\n",
       "      <td>9</td>\n",
       "      <td>1</td>\n",
       "      <td>1</td>\n",
       "      <td>51.0</td>\n",
       "      <td>0</td>\n",
       "      <td>1</td>\n",
       "      <td>0</td>\n",
       "      <td>2301</td>\n",
       "      <td>0</td>\n",
       "      <td>1999</td>\n",
       "    </tr>\n",
       "    <tr>\n",
       "      <th>2</th>\n",
       "      <td>8</td>\n",
       "      <td>19</td>\n",
       "      <td>10</td>\n",
       "      <td>225396.0</td>\n",
       "      <td>52.0</td>\n",
       "      <td>13</td>\n",
       "      <td>24</td>\n",
       "      <td>9</td>\n",
       "      <td>1</td>\n",
       "      <td>1</td>\n",
       "      <td>21.5</td>\n",
       "      <td>1</td>\n",
       "      <td>1</td>\n",
       "      <td>0</td>\n",
       "      <td>2301</td>\n",
       "      <td>0</td>\n",
       "      <td>2006</td>\n",
       "    </tr>\n",
       "    <tr>\n",
       "      <th>3</th>\n",
       "      <td>8</td>\n",
       "      <td>19</td>\n",
       "      <td>10</td>\n",
       "      <td>255512.0</td>\n",
       "      <td>-1.0</td>\n",
       "      <td>13</td>\n",
       "      <td>24</td>\n",
       "      <td>9</td>\n",
       "      <td>2</td>\n",
       "      <td>1</td>\n",
       "      <td>100.0</td>\n",
       "      <td>1</td>\n",
       "      <td>1</td>\n",
       "      <td>0</td>\n",
       "      <td>2301</td>\n",
       "      <td>0</td>\n",
       "      <td>2010</td>\n",
       "    </tr>\n",
       "    <tr>\n",
       "      <th>4</th>\n",
       "      <td>3</td>\n",
       "      <td>7</td>\n",
       "      <td>11</td>\n",
       "      <td>187802.0</td>\n",
       "      <td>52.0</td>\n",
       "      <td>1</td>\n",
       "      <td>0</td>\n",
       "      <td>7</td>\n",
       "      <td>3</td>\n",
       "      <td>1</td>\n",
       "      <td>37.7</td>\n",
       "      <td>3</td>\n",
       "      <td>0</td>\n",
       "      <td>0</td>\n",
       "      <td>2103</td>\n",
       "      <td>0</td>\n",
       "      <td>2016</td>\n",
       "    </tr>\n",
       "  </tbody>\n",
       "</table>\n",
       "</div>"
      ],
      "text/plain": [
       "  source_system_tab source_screen_name source_type  song_length language city  \\\n",
       "0                 3                  7          11     206471.0     52.0    1   \n",
       "1                 8                 19          10     284584.0     52.0   13   \n",
       "2                 8                 19          10     225396.0     52.0   13   \n",
       "3                 8                 19          10     255512.0     -1.0   13   \n",
       "4                 3                  7          11     187802.0     52.0    1   \n",
       "\n",
       "   bd registered_via  genre_ids_new  genre_count  artist_repeat_percentage  \\\n",
       "0   0              7              0            1                      46.3   \n",
       "1  24              9              1            1                      51.0   \n",
       "2  24              9              1            1                      21.5   \n",
       "3  24              9              2            1                     100.0   \n",
       "4   0              7              3            1                      37.7   \n",
       "\n",
       "   composer_count  female  male  validity_days  lyricist_count  song_year  \n",
       "0               2       0     0           2103               0       2016  \n",
       "1               0       1     0           2301               0       1999  \n",
       "2               1       1     0           2301               0       2006  \n",
       "3               1       1     0           2301               0       2010  \n",
       "4               3       0     0           2103               0       2016  "
      ]
     },
     "execution_count": 74,
     "metadata": {},
     "output_type": "execute_result"
    }
   ],
   "source": [
    "df_train.drop([\"msno\",\"song_id\",\"target\"],axis=1).head()"
   ]
  },
  {
   "cell_type": "code",
   "execution_count": 75,
   "metadata": {
    "collapsed": false
   },
   "outputs": [
    {
     "data": {
      "text/plain": [
       "\"from sklearn.linear_model import LogisticRegression\\nseed = 23\\nlr = LogisticRegression(max_iter=100,random_state=seed)\\nlr.fit(trainfeature,y)\\nresult_df = pd.DataFrame()\\npredict_log = lr.predict_proba(testfeature)\\nresult_df['id'] = song_ids\\nresult_df['target'] = predict_log[:,1]\\nresult_df.to_csv('predict_log.csv.gz', compression = 'gzip', index=False, float_format = '%.5f')\\n\""
      ]
     },
     "execution_count": 75,
     "metadata": {},
     "output_type": "execute_result"
    }
   ],
   "source": [
    "\"\"\"from sklearn.linear_model import LogisticRegression\n",
    "seed = 23\n",
    "lr = LogisticRegression(max_iter=100,random_state=seed)\n",
    "lr.fit(trainfeature,y)\n",
    "result_df = pd.DataFrame()\n",
    "predict_log = lr.predict_proba(testfeature)\n",
    "result_df['id'] = song_ids\n",
    "result_df['target'] = predict_log[:,1]\n",
    "result_df.to_csv('predict_log.csv.gz', compression = 'gzip', index=False, float_format = '%.5f')\n",
    "\"\"\""
   ]
  },
  {
   "cell_type": "code",
   "execution_count": 76,
   "metadata": {
    "_cell_guid": "530d4069-d8d1-45d4-a032-4034c170b101",
    "_uuid": "28c03f87d8c95a15965bf60453af0040a9787559",
    "collapsed": false
   },
   "outputs": [],
   "source": [
    "y_preds = model.predict(X_test)\n",
    "result_df = pd.DataFrame()\n",
    "\n",
    "result_df['id'] = song_ids\n",
    "result_df['target'] = y_preds\n",
    "result_df.to_csv('submission5.csv.gz', compression = 'gzip', index=False, float_format = '%.5f')"
   ]
  },
  {
   "cell_type": "code",
   "execution_count": 78,
   "metadata": {
    "_cell_guid": "3108e46f-2e64-4adb-8339-92a79babec24",
    "_uuid": "14d6936aac0d2770382a00ba31d25fe0a876906c",
    "collapsed": false
   },
   "outputs": [],
   "source": [
    "df_train.drop([\"msno\",\"song_id\",\"genre_count\"],axis=1).to_csv('tmp/train.csv')\n",
    "df_test.drop([\"msno\",\"song_id\",\"id\",\"genre_count\"],axis=1).to_csv('tmp/test.csv')"
   ]
  },
  {
   "cell_type": "code",
   "execution_count": 79,
   "metadata": {
    "_cell_guid": "e7d9c757-1758-475d-adc4-1649d1912394",
    "_uuid": "e689ed459e87acdc172416e98568f8993d9bdfe9",
    "collapsed": false
   },
   "outputs": [],
   "source": [
    "\n",
    "def get_batch(X, y=None, batch_size = 100,feature_size = 2**5):\n",
    "        \"\"\"\n",
    "        Return minibatch of samples and labels\n",
    "        \n",
    "        :param X, y: samples and corresponding labels\n",
    "        :parma batch_size: minibatch size\n",
    "        :returns: (tuple) X_batch, y_batch\n",
    "        \"\"\"\n",
    "        def one_hot(y):\n",
    "            return np.eye(feature_size)[y].squeeze()\n",
    "        N,_ = X.shape \n",
    "        X_batch = []\n",
    "        y_batch = []\n",
    "        for i in range(0,N,batch_size):            \n",
    "            x_ =  X[i:i+batch_size,:]\n",
    "            x_one_hot = []\n",
    "            \n",
    "            for j in range(60):\n",
    "                one = one_hot(x_[:,j])\n",
    "                x_one_hot.append(one)\n",
    "            if not y is None:\n",
    "                yield np.concatenate(x_one_hot,axis = 1),y[i:i+batch_size]\n",
    "            else:\n",
    "                yield np.concatenate(x_one_hot,axis = 1),None\n"
   ]
  },
  {
   "cell_type": "code",
   "execution_count": 77,
   "metadata": {
    "collapsed": false
   },
   "outputs": [],
   "source": [
    "batchIter= get_batch(trainfeature,y)"
   ]
  },
  {
   "cell_type": "code",
   "execution_count": 78,
   "metadata": {
    "collapsed": false
   },
   "outputs": [],
   "source": [
    "from sklearn.linear_model import SGDClassifier\n",
    "model = SGDClassifier(loss = 'log',penalty=\"l1\")\n",
    "def train(model,epoch):\n",
    "    \n",
    "    e = 0\n",
    "    i = 0\n",
    "    while(e < epoch):\n",
    "        batchIter = get_batch(trainfeature,y)\n",
    "        for x_,y_  in batchIter:\n",
    "            model.partial_fit(x_,y_,classes = [0,1])\n",
    "            i += 1\n",
    "            if i % 1000 == 0:\n",
    "                print(i,\"iter done\")\n",
    "                print(model.score(x_,y_))\n",
    "        print(e, 'epoch done')\n",
    "        e += 1\n",
    "    return model"
   ]
  },
  {
   "cell_type": "code",
   "execution_count": 79,
   "metadata": {
    "collapsed": false
   },
   "outputs": [
    {
     "name": "stderr",
     "output_type": "stream",
     "text": [
      "/usr/local/lib/python3.5/dist-packages/sklearn/linear_model/stochastic_gradient.py:128: FutureWarning: max_iter and tol parameters have been added in <class 'sklearn.linear_model.stochastic_gradient.SGDClassifier'> in 0.19. If both are left unset, they default to max_iter=5 and tol=None. If tol is not None, max_iter defaults to max_iter=1000. From 0.21, default max_iter will be 1000, and default tol will be 1e-3.\n",
      "  \"and default tol will be 1e-3.\" % type(self), FutureWarning)\n"
     ]
    },
    {
     "name": "stdout",
     "output_type": "stream",
     "text": [
      "1000 iter done\n",
      "0.82\n",
      "2000 iter done\n",
      "0.85\n",
      "3000 iter done\n",
      "0.77\n",
      "4000 iter done\n",
      "0.85\n",
      "5000 iter done\n",
      "0.87\n",
      "6000 iter done\n",
      "0.84\n",
      "7000 iter done\n",
      "0.8\n",
      "8000 iter done\n",
      "0.83\n",
      "9000 iter done\n",
      "0.79\n",
      "10000 iter done\n",
      "0.74\n",
      "11000 iter done\n",
      "0.64\n",
      "12000 iter done\n",
      "0.76\n",
      "13000 iter done\n",
      "0.69\n",
      "14000 iter done\n",
      "0.78\n",
      "15000 iter done\n",
      "0.85\n",
      "16000 iter done\n",
      "0.9\n",
      "17000 iter done\n",
      "0.74\n",
      "18000 iter done\n",
      "0.78\n",
      "19000 iter done\n",
      "0.62\n",
      "20000 iter done\n",
      "0.79\n",
      "21000 iter done\n",
      "0.63\n",
      "22000 iter done\n",
      "0.68\n",
      "23000 iter done\n",
      "0.7\n",
      "24000 iter done\n",
      "0.6\n",
      "25000 iter done\n",
      "0.67\n",
      "26000 iter done\n",
      "0.71\n",
      "27000 iter done\n",
      "0.72\n",
      "28000 iter done\n",
      "0.72\n",
      "29000 iter done\n",
      "0.65\n",
      "30000 iter done\n",
      "0.63\n",
      "31000 iter done\n",
      "0.66\n",
      "32000 iter done\n",
      "0.65\n",
      "33000 iter done\n",
      "0.69\n",
      "34000 iter done\n",
      "0.63\n",
      "35000 iter done\n",
      "0.75\n",
      "36000 iter done\n",
      "0.55\n",
      "37000 iter done\n",
      "0.68\n",
      "38000 iter done\n",
      "0.65\n",
      "39000 iter done\n",
      "0.73\n",
      "40000 iter done\n",
      "0.57\n",
      "41000 iter done\n",
      "0.77\n",
      "42000 iter done\n",
      "0.6\n",
      "43000 iter done\n",
      "0.77\n",
      "44000 iter done\n",
      "0.7\n",
      "45000 iter done\n",
      "0.65\n",
      "46000 iter done\n",
      "0.67\n",
      "47000 iter done\n",
      "0.57\n",
      "48000 iter done\n",
      "0.66\n",
      "49000 iter done\n",
      "0.67\n",
      "50000 iter done\n",
      "0.73\n",
      "51000 iter done\n",
      "0.78\n",
      "52000 iter done\n",
      "0.47\n",
      "53000 iter done\n",
      "0.69\n",
      "54000 iter done\n",
      "0.54\n",
      "55000 iter done\n",
      "0.68\n",
      "56000 iter done\n",
      "0.6\n",
      "57000 iter done\n",
      "0.61\n",
      "58000 iter done\n",
      "0.67\n",
      "59000 iter done\n",
      "0.72\n",
      "60000 iter done\n",
      "0.64\n",
      "61000 iter done\n",
      "0.68\n",
      "62000 iter done\n",
      "0.64\n",
      "63000 iter done\n",
      "0.63\n",
      "64000 iter done\n",
      "0.72\n",
      "65000 iter done\n",
      "0.69\n",
      "66000 iter done\n",
      "0.71\n",
      "67000 iter done\n",
      "0.65\n",
      "68000 iter done\n",
      "0.73\n",
      "69000 iter done\n",
      "0.66\n",
      "70000 iter done\n",
      "0.71\n",
      "71000 iter done\n",
      "0.63\n",
      "72000 iter done\n",
      "0.61\n",
      "73000 iter done\n",
      "0.59\n",
      "0 epoch done\n",
      "74000 iter done\n",
      "0.79\n",
      "75000 iter done\n",
      "0.73\n",
      "76000 iter done\n",
      "0.79\n",
      "77000 iter done\n",
      "0.77\n",
      "78000 iter done\n",
      "0.65\n",
      "79000 iter done\n",
      "0.75\n",
      "80000 iter done\n",
      "0.8\n",
      "81000 iter done\n",
      "0.83\n",
      "82000 iter done\n",
      "0.65\n",
      "83000 iter done\n",
      "0.81\n",
      "84000 iter done\n",
      "0.61\n",
      "85000 iter done\n",
      "0.79\n",
      "86000 iter done\n",
      "0.72\n",
      "87000 iter done\n",
      "0.84\n",
      "88000 iter done\n",
      "0.74\n",
      "89000 iter done\n",
      "0.63\n",
      "90000 iter done\n",
      "0.79\n",
      "91000 iter done\n",
      "0.73\n",
      "92000 iter done\n",
      "0.73\n",
      "93000 iter done\n",
      "0.67\n",
      "94000 iter done\n",
      "0.69\n",
      "95000 iter done\n",
      "0.65\n",
      "96000 iter done\n",
      "0.69\n",
      "97000 iter done\n",
      "0.8\n",
      "98000 iter done\n",
      "0.52\n",
      "99000 iter done\n",
      "0.6\n",
      "100000 iter done\n",
      "0.73\n",
      "101000 iter done\n",
      "0.64\n",
      "102000 iter done\n",
      "0.62\n",
      "103000 iter done\n",
      "0.73\n",
      "104000 iter done\n",
      "0.74\n",
      "105000 iter done\n",
      "0.75\n",
      "106000 iter done\n",
      "0.66\n",
      "107000 iter done\n",
      "0.68\n",
      "108000 iter done\n",
      "0.8\n",
      "109000 iter done\n",
      "0.76\n",
      "110000 iter done\n",
      "0.7\n"
     ]
    },
    {
     "ename": "KeyboardInterrupt",
     "evalue": "",
     "output_type": "error",
     "traceback": [
      "\u001b[0;31m---------------------------------------------------------------------------\u001b[0m",
      "\u001b[0;31mKeyboardInterrupt\u001b[0m                         Traceback (most recent call last)",
      "\u001b[0;32m<ipython-input-79-6acd7fec79de>\u001b[0m in \u001b[0;36m<module>\u001b[0;34m()\u001b[0m\n\u001b[0;32m----> 1\u001b[0;31m \u001b[0mtrain\u001b[0m\u001b[0;34m(\u001b[0m\u001b[0mmodel\u001b[0m\u001b[0;34m,\u001b[0m\u001b[0;36m3\u001b[0m\u001b[0;34m)\u001b[0m\u001b[0;34m\u001b[0m\u001b[0m\n\u001b[0m",
      "\u001b[0;32m<ipython-input-78-8633ad7765a6>\u001b[0m in \u001b[0;36mtrain\u001b[0;34m(model, epoch)\u001b[0m\n\u001b[1;32m      8\u001b[0m         \u001b[0mbatchIter\u001b[0m \u001b[0;34m=\u001b[0m \u001b[0mget_batch\u001b[0m\u001b[0;34m(\u001b[0m\u001b[0mtrainfeature\u001b[0m\u001b[0;34m,\u001b[0m\u001b[0my\u001b[0m\u001b[0;34m)\u001b[0m\u001b[0;34m\u001b[0m\u001b[0m\n\u001b[1;32m      9\u001b[0m         \u001b[0;32mfor\u001b[0m \u001b[0mx_\u001b[0m\u001b[0;34m,\u001b[0m\u001b[0my_\u001b[0m  \u001b[0;32min\u001b[0m \u001b[0mbatchIter\u001b[0m\u001b[0;34m:\u001b[0m\u001b[0;34m\u001b[0m\u001b[0m\n\u001b[0;32m---> 10\u001b[0;31m             \u001b[0mmodel\u001b[0m\u001b[0;34m.\u001b[0m\u001b[0mpartial_fit\u001b[0m\u001b[0;34m(\u001b[0m\u001b[0mx_\u001b[0m\u001b[0;34m,\u001b[0m\u001b[0my_\u001b[0m\u001b[0;34m,\u001b[0m\u001b[0mclasses\u001b[0m \u001b[0;34m=\u001b[0m \u001b[0;34m[\u001b[0m\u001b[0;36m0\u001b[0m\u001b[0;34m,\u001b[0m\u001b[0;36m1\u001b[0m\u001b[0;34m]\u001b[0m\u001b[0;34m)\u001b[0m\u001b[0;34m\u001b[0m\u001b[0m\n\u001b[0m\u001b[1;32m     11\u001b[0m             \u001b[0mi\u001b[0m \u001b[0;34m+=\u001b[0m \u001b[0;36m1\u001b[0m\u001b[0;34m\u001b[0m\u001b[0m\n\u001b[1;32m     12\u001b[0m             \u001b[0;32mif\u001b[0m \u001b[0mi\u001b[0m \u001b[0;34m%\u001b[0m \u001b[0;36m1000\u001b[0m \u001b[0;34m==\u001b[0m \u001b[0;36m0\u001b[0m\u001b[0;34m:\u001b[0m\u001b[0;34m\u001b[0m\u001b[0m\n",
      "\u001b[0;32m/usr/local/lib/python3.5/dist-packages/sklearn/linear_model/stochastic_gradient.py\u001b[0m in \u001b[0;36mpartial_fit\u001b[0;34m(self, X, y, classes, sample_weight)\u001b[0m\n\u001b[1;32m    551\u001b[0m                                  \u001b[0mlearning_rate\u001b[0m\u001b[0;34m=\u001b[0m\u001b[0mself\u001b[0m\u001b[0;34m.\u001b[0m\u001b[0mlearning_rate\u001b[0m\u001b[0;34m,\u001b[0m \u001b[0mmax_iter\u001b[0m\u001b[0;34m=\u001b[0m\u001b[0;36m1\u001b[0m\u001b[0;34m,\u001b[0m\u001b[0;34m\u001b[0m\u001b[0m\n\u001b[1;32m    552\u001b[0m                                  \u001b[0mclasses\u001b[0m\u001b[0;34m=\u001b[0m\u001b[0mclasses\u001b[0m\u001b[0;34m,\u001b[0m \u001b[0msample_weight\u001b[0m\u001b[0;34m=\u001b[0m\u001b[0msample_weight\u001b[0m\u001b[0;34m,\u001b[0m\u001b[0;34m\u001b[0m\u001b[0m\n\u001b[0;32m--> 553\u001b[0;31m                                  coef_init=None, intercept_init=None)\n\u001b[0m\u001b[1;32m    554\u001b[0m \u001b[0;34m\u001b[0m\u001b[0m\n\u001b[1;32m    555\u001b[0m     def fit(self, X, y, coef_init=None, intercept_init=None,\n",
      "\u001b[0;32m/usr/local/lib/python3.5/dist-packages/sklearn/linear_model/stochastic_gradient.py\u001b[0m in \u001b[0;36m_partial_fit\u001b[0;34m(self, X, y, alpha, C, loss, learning_rate, max_iter, classes, sample_weight, coef_init, intercept_init)\u001b[0m\n\u001b[1;32m    403\u001b[0m                              \u001b[0mlearning_rate\u001b[0m\u001b[0;34m=\u001b[0m\u001b[0mlearning_rate\u001b[0m\u001b[0;34m,\u001b[0m\u001b[0;34m\u001b[0m\u001b[0m\n\u001b[1;32m    404\u001b[0m                              \u001b[0msample_weight\u001b[0m\u001b[0;34m=\u001b[0m\u001b[0msample_weight\u001b[0m\u001b[0;34m,\u001b[0m\u001b[0;34m\u001b[0m\u001b[0m\n\u001b[0;32m--> 405\u001b[0;31m                              max_iter=max_iter)\n\u001b[0m\u001b[1;32m    406\u001b[0m         \u001b[0;32melse\u001b[0m\u001b[0;34m:\u001b[0m\u001b[0;34m\u001b[0m\u001b[0m\n\u001b[1;32m    407\u001b[0m             raise ValueError(\"The number of class labels must be \"\n",
      "\u001b[0;32m/usr/local/lib/python3.5/dist-packages/sklearn/linear_model/stochastic_gradient.py\u001b[0m in \u001b[0;36m_fit_binary\u001b[0;34m(self, X, y, alpha, C, sample_weight, learning_rate, max_iter)\u001b[0m\n\u001b[1;32m    459\u001b[0m                                               \u001b[0mself\u001b[0m\u001b[0;34m.\u001b[0m\u001b[0m_expanded_class_weight\u001b[0m\u001b[0;34m[\u001b[0m\u001b[0;36m1\u001b[0m\u001b[0;34m]\u001b[0m\u001b[0;34m,\u001b[0m\u001b[0;34m\u001b[0m\u001b[0m\n\u001b[1;32m    460\u001b[0m                                               \u001b[0mself\u001b[0m\u001b[0;34m.\u001b[0m\u001b[0m_expanded_class_weight\u001b[0m\u001b[0;34m[\u001b[0m\u001b[0;36m0\u001b[0m\u001b[0;34m]\u001b[0m\u001b[0;34m,\u001b[0m\u001b[0;34m\u001b[0m\u001b[0m\n\u001b[0;32m--> 461\u001b[0;31m                                               sample_weight)\n\u001b[0m\u001b[1;32m    462\u001b[0m \u001b[0;34m\u001b[0m\u001b[0m\n\u001b[1;32m    463\u001b[0m         \u001b[0mself\u001b[0m\u001b[0;34m.\u001b[0m\u001b[0mt_\u001b[0m \u001b[0;34m+=\u001b[0m \u001b[0mn_iter_\u001b[0m \u001b[0;34m*\u001b[0m \u001b[0mX\u001b[0m\u001b[0;34m.\u001b[0m\u001b[0mshape\u001b[0m\u001b[0;34m[\u001b[0m\u001b[0;36m0\u001b[0m\u001b[0;34m]\u001b[0m\u001b[0;34m\u001b[0m\u001b[0m\n",
      "\u001b[0;32m/usr/local/lib/python3.5/dist-packages/sklearn/linear_model/stochastic_gradient.py\u001b[0m in \u001b[0;36mfit_binary\u001b[0;34m(est, i, X, y, alpha, C, learning_rate, max_iter, pos_weight, neg_weight, sample_weight)\u001b[0m\n\u001b[1;32m    297\u001b[0m                          \u001b[0mpos_weight\u001b[0m\u001b[0;34m,\u001b[0m \u001b[0mneg_weight\u001b[0m\u001b[0;34m,\u001b[0m\u001b[0;34m\u001b[0m\u001b[0m\n\u001b[1;32m    298\u001b[0m                          \u001b[0mlearning_rate_type\u001b[0m\u001b[0;34m,\u001b[0m \u001b[0mest\u001b[0m\u001b[0;34m.\u001b[0m\u001b[0meta0\u001b[0m\u001b[0;34m,\u001b[0m\u001b[0;34m\u001b[0m\u001b[0m\n\u001b[0;32m--> 299\u001b[0;31m                          est.power_t, est.t_, intercept_decay)\n\u001b[0m\u001b[1;32m    300\u001b[0m \u001b[0;34m\u001b[0m\u001b[0m\n\u001b[1;32m    301\u001b[0m     \u001b[0;32melse\u001b[0m\u001b[0;34m:\u001b[0m\u001b[0;34m\u001b[0m\u001b[0m\n",
      "\u001b[0;31mKeyboardInterrupt\u001b[0m: "
     ]
    }
   ],
   "source": [
    "train(model,3)"
   ]
  },
  {
   "cell_type": "code",
   "execution_count": null,
   "metadata": {
    "collapsed": false
   },
   "outputs": [],
   "source": [
    "#"
   ]
  },
  {
   "cell_type": "code",
   "execution_count": null,
   "metadata": {
    "collapsed": false
   },
   "outputs": [],
   "source": [
    "#y_logistic = y.predict_proba()"
   ]
  },
  {
   "cell_type": "code",
   "execution_count": null,
   "metadata": {
    "collapsed": false
   },
   "outputs": [],
   "source": [
    "x_,y_ = next(batchIter)\n",
    "print(x_,y_)"
   ]
  },
  {
   "cell_type": "code",
   "execution_count": 80,
   "metadata": {
    "collapsed": false
   },
   "outputs": [],
   "source": [
    "def test(model,testfeature):\n",
    "    #model = SGDClassifier(loss = 'log')\n",
    "    y = []\n",
    "    batchIter = get_batch(testfeature)\n",
    "    for x_,_  in batchIter:\n",
    "        y_ = model.predict_proba(x_)\n",
    "        y.append(y_)   \n",
    "    return np.concatenate(y)\n",
    "y_logistic = test(model,testfeature)\n",
    "y_logistic = y_logistic[:,1]"
   ]
  },
  {
   "cell_type": "code",
   "execution_count": 81,
   "metadata": {
    "collapsed": true
   },
   "outputs": [],
   "source": [
    "result_df = pd.DataFrame()\n",
    "\n",
    "result_df['id'] = song_ids\n",
    "result_df['target'] = y_logistic\n",
    "result_df.to_csv('gbdt_logistic.csv.gz', compression = 'gzip', index=False, float_format = '%.5f')"
   ]
  },
  {
   "cell_type": "code",
   "execution_count": 82,
   "metadata": {
    "collapsed": false
   },
   "outputs": [
    {
     "ename": "NameError",
     "evalue": "name 'y_preds' is not defined",
     "output_type": "error",
     "traceback": [
      "\u001b[0;31m---------------------------------------------------------------------------\u001b[0m",
      "\u001b[0;31mNameError\u001b[0m                                 Traceback (most recent call last)",
      "\u001b[0;32m<ipython-input-82-9dd5b0fac501>\u001b[0m in \u001b[0;36m<module>\u001b[0;34m()\u001b[0m\n\u001b[0;32m----> 1\u001b[0;31m \u001b[0my_preds\u001b[0m\u001b[0;34m\u001b[0m\u001b[0m\n\u001b[0m",
      "\u001b[0;31mNameError\u001b[0m: name 'y_preds' is not defined"
     ]
    }
   ],
   "source": []
  },
  {
   "cell_type": "code",
   "execution_count": null,
   "metadata": {
    "collapsed": false
   },
   "outputs": [],
   "source": [
    "#test(model,trainfeature[:10,:])"
   ]
  },
  {
   "cell_type": "code",
   "execution_count": null,
   "metadata": {
    "collapsed": false
   },
   "outputs": [],
   "source": [
    "y[:100]"
   ]
  },
  {
   "cell_type": "code",
   "execution_count": 83,
   "metadata": {
    "collapsed": false
   },
   "outputs": [
    {
     "data": {
      "text/plain": [
       "array([ 0.57749766,  0.58682825,  0.19088878, ...,  0.30009641,\n",
       "        0.00766435,  0.00774449])"
      ]
     },
     "execution_count": 83,
     "metadata": {},
     "output_type": "execute_result"
    }
   ],
   "source": [
    "y_logistic"
   ]
  },
  {
   "cell_type": "code",
   "execution_count": null,
   "metadata": {
    "collapsed": true
   },
   "outputs": [],
   "source": []
  },
  {
   "cell_type": "code",
   "execution_count": null,
   "metadata": {
    "collapsed": true
   },
   "outputs": [],
   "source": []
  }
 ],
 "metadata": {
  "kernelspec": {
   "display_name": "Python 3",
   "language": "python",
   "name": "python3"
  },
  "language_info": {
   "codemirror_mode": {
    "name": "ipython",
    "version": 3
   },
   "file_extension": ".py",
   "mimetype": "text/x-python",
   "name": "python",
   "nbconvert_exporter": "python",
   "pygments_lexer": "ipython3",
   "version": "3.5.2"
  }
 },
 "nbformat": 4,
 "nbformat_minor": 1
}
