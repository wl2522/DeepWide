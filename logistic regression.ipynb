{
 "cells": [
  {
   "cell_type": "code",
   "execution_count": 1,
   "metadata": {
    "collapsed": true
   },
   "outputs": [],
   "source": [
    "import tensorflow as tf"
   ]
  },
  {
   "cell_type": "code",
   "execution_count": 2,
   "metadata": {
    "collapsed": false
   },
   "outputs": [],
   "source": [
    "x_queue = tf.train.string_input_producer([\"./train.csv\"])\n",
    "reader1 = tf.TextLineReader(skip_header_lines=1)\n",
    "\n",
    "keyx, valuex = reader1.read(x_queue)\n",
    "x = tf.decode_csv(\n",
    "    valuex, record_defaults=[[0.] for i in range(653)])\n",
    "\n"
   ]
  },
  {
   "cell_type": "code",
   "execution_count": 3,
   "metadata": {
    "collapsed": false
   },
   "outputs": [],
   "source": [
    "batch_size = 100\n",
    "min_after_dequeue = 1000\n",
    "capacity = min_after_dequeue + 3 * batch_size\n",
    "train= tf.train.shuffle_batch([x],batch_size=100, capacity=capacity,min_after_dequeue=min_after_dequeue)"
   ]
  },
  {
   "cell_type": "code",
   "execution_count": 15,
   "metadata": {
    "collapsed": false
   },
   "outputs": [
    {
     "name": "stdout",
     "output_type": "stream",
     "text": [
      "Tensor(\"Mean_6:0\", shape=(), dtype=float32)\n"
     ]
    }
   ],
   "source": [
    "SEED = 66478\n",
    "\n",
    "weights = tf.Variable(\n",
    "      tf.truncated_normal([651,1],  \n",
    "                          stddev=0.05,\n",
    "                          seed=SEED, dtype=\"float32\"))\n",
    "biases = tf.Variable(tf.zeros([1], dtype=\"float32\"))\n",
    "z = tf.matmul(train[:,1:-1],weights) + biases\n",
    "y_hat = tf.squeeze(tf.sigmoid(-z))\n",
    "y = train[:,-1]\n",
    "loss = tf.reduce_mean(-(y*tf.log(y_hat) + (1-y)*tf.log(1-y_hat)))\n",
    "print(loss)\n",
    "train_step = tf.train.GradientDescentOptimizer(0.1).minimize(loss)"
   ]
  },
  {
   "cell_type": "code",
   "execution_count": 16,
   "metadata": {
    "collapsed": false
   },
   "outputs": [
    {
     "name": "stdout",
     "output_type": "stream",
     "text": [
      "Help on function minimize in module tensorflow.python.training.optimizer:\n",
      "\n",
      "minimize(self, loss, global_step=None, var_list=None, gate_gradients=1, aggregation_method=None, colocate_gradients_with_ops=False, name=None, grad_loss=None)\n",
      "    Add operations to minimize `loss` by updating `var_list`.\n",
      "    \n",
      "    This method simply combines calls `compute_gradients()` and\n",
      "    `apply_gradients()`. If you want to process the gradient before applying\n",
      "    them call `compute_gradients()` and `apply_gradients()` explicitly instead\n",
      "    of using this function.\n",
      "    \n",
      "    Args:\n",
      "      loss: A `Tensor` containing the value to minimize.\n",
      "      global_step: Optional `Variable` to increment by one after the\n",
      "        variables have been updated.\n",
      "      var_list: Optional list or tuple of `Variable` objects to update to\n",
      "        minimize `loss`.  Defaults to the list of variables collected in\n",
      "        the graph under the key `GraphKeys.TRAINABLE_VARIABLES`.\n",
      "      gate_gradients: How to gate the computation of gradients.  Can be\n",
      "        `GATE_NONE`, `GATE_OP`, or  `GATE_GRAPH`.\n",
      "      aggregation_method: Specifies the method used to combine gradient terms.\n",
      "        Valid values are defined in the class `AggregationMethod`.\n",
      "      colocate_gradients_with_ops: If True, try colocating gradients with\n",
      "        the corresponding op.\n",
      "      name: Optional name for the returned operation.\n",
      "      grad_loss: Optional. A `Tensor` holding the gradient computed for `loss`.\n",
      "    \n",
      "    Returns:\n",
      "      An Operation that updates the variables in `var_list`.  If `global_step`\n",
      "      was not `None`, that operation also increments `global_step`.\n",
      "    \n",
      "    Raises:\n",
      "      ValueError: If some of the variables are not `Variable` objects.\n",
      "\n"
     ]
    }
   ],
   "source": [
    "help(tf.train.GradientDescentOptimizer.minimize)"
   ]
  },
  {
   "cell_type": "code",
   "execution_count": 17,
   "metadata": {
    "collapsed": false
   },
   "outputs": [
    {
     "name": "stdout",
     "output_type": "stream",
     "text": [
      "0.690529\n",
      "0.696021\n",
      "0.688989\n",
      "0.670951\n",
      "0.696034\n",
      "0.691348\n",
      "0.673999\n",
      "0.706768\n",
      "0.700496\n",
      "0.681314\n",
      "0.705067\n",
      "0.683226\n",
      "0.689701\n",
      "0.699822\n",
      "0.695683\n",
      "0.685708\n",
      "0.700897\n",
      "0.694537\n",
      "0.691205\n",
      "0.682796\n",
      "0.687127\n",
      "0.717746\n",
      "0.693953\n",
      "0.691526\n",
      "0.684057\n",
      "0.69033\n",
      "0.681293\n",
      "0.687503\n",
      "0.659474\n",
      "0.706143\n",
      "0.685483\n",
      "0.678781\n",
      "0.698804\n",
      "0.683058\n",
      "0.697726\n",
      "0.700893\n",
      "0.69824\n",
      "0.695723\n",
      "0.68489\n",
      "0.698651\n",
      "0.669629\n",
      "0.696075\n",
      "0.67375\n",
      "0.679135\n",
      "0.704946\n",
      "0.684329\n",
      "0.688155\n",
      "0.674121\n",
      "0.698915\n",
      "0.692468\n",
      "0.664986\n",
      "0.671933\n",
      "0.693687\n",
      "0.684331\n",
      "0.690656\n",
      "0.689976\n",
      "0.692017\n",
      "0.68207\n",
      "0.713213\n",
      "0.677855\n",
      "0.689173\n",
      "0.695567\n",
      "0.679498\n",
      "0.693066\n",
      "0.691938\n",
      "0.694137\n",
      "0.695529\n",
      "0.70787\n",
      "0.680638\n",
      "0.681536\n",
      "0.682564\n",
      "0.681963\n",
      "0.690019\n",
      "0.69304\n",
      "0.694876\n",
      "0.698736\n",
      "0.684164\n",
      "0.68813\n",
      "0.668814\n",
      "0.673531\n",
      "0.682236\n",
      "0.698459\n",
      "0.67853\n",
      "0.669665\n",
      "0.691113\n",
      "0.648138\n",
      "0.669093\n",
      "0.669607\n",
      "0.666834\n",
      "0.667364\n",
      "0.67631\n",
      "0.673613\n",
      "0.682194\n",
      "0.689397\n",
      "0.67041\n",
      "0.676044\n",
      "0.688825\n",
      "0.692539\n",
      "0.690556\n",
      "0.673612\n"
     ]
    }
   ],
   "source": [
    "with tf.Session() as sess:  \n",
    "    coord = tf.train.Coordinator()  #创建一个协调器，管理线程 \n",
    "    threads = tf.train.start_queue_runners(coord=coord)  #启动QueueRunner, 此时文件名队列已经进队。 \n",
    "    for i in range(100):\n",
    "        tf.global_variables_initializer().run()\n",
    "        sess.run(train_step)\n",
    "        e_val = sess.run(loss) \n",
    "        print(e_val)\n",
    "    coord.request_stop()  \n",
    "    coord.join(threads)"
   ]
  },
  {
   "cell_type": "code",
   "execution_count": null,
   "metadata": {
    "collapsed": true
   },
   "outputs": [],
   "source": []
  },
  {
   "cell_type": "code",
   "execution_count": null,
   "metadata": {
    "collapsed": true
   },
   "outputs": [],
   "source": []
  }
 ],
 "metadata": {
  "kernelspec": {
   "display_name": "Python 3",
   "language": "python",
   "name": "python3"
  },
  "language_info": {
   "codemirror_mode": {
    "name": "ipython",
    "version": 3
   },
   "file_extension": ".py",
   "mimetype": "text/x-python",
   "name": "python",
   "nbconvert_exporter": "python",
   "pygments_lexer": "ipython3",
   "version": "3.5.2"
  }
 },
 "nbformat": 4,
 "nbformat_minor": 1
}
