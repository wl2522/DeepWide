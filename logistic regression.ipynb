{
 "cells": [
  {
   "cell_type": "code",
   "execution_count": 1,
   "metadata": {
    "collapsed": true
   },
   "outputs": [],
   "source": [
    "import tensorflow as tf"
   ]
  },
  {
   "cell_type": "code",
   "execution_count": 2,
   "metadata": {
    "collapsed": false
   },
   "outputs": [],
   "source": [
    "x_queue = tf.train.string_input_producer([\"./test.csv\"])\n",
    "reader1 = tf.TextLineReader(skip_header_lines=1)\n",
    "\n",
    "keyx, valuex = reader1.read(x_queue)\n",
    "x = tf.decode_csv(\n",
    "    valuex, record_defaults=[[0.] for i in range(3)])\n",
    "\n"
   ]
  },
  {
   "cell_type": "code",
   "execution_count": 3,
   "metadata": {
    "collapsed": false
   },
   "outputs": [],
   "source": [
    "batch_size = 100\n",
    "min_after_dequeue = 1000\n",
    "capacity = min_after_dequeue + 3 * batch_size\n",
    "train= tf.train.batch([x],batch_size=10, capacity=capacity)"
   ]
  },
  {
   "cell_type": "code",
   "execution_count": 4,
   "metadata": {
    "collapsed": false
   },
   "outputs": [
    {
     "name": "stdout",
     "output_type": "stream",
     "text": [
      "Tensor(\"Neg_1:0\", shape=(), dtype=float32)\n"
     ]
    }
   ],
   "source": [
    "SEED = 66478\n",
    "\n",
    "weights = tf.random_uniform([2,1], -1.0, 1.0)\n",
    "biases = tf.Variable(tf.zeros([1], dtype=\"float32\"))\n",
    "feature = train[:,0:-1]\n",
    "z = tf.add(tf.matmul(feature,weights),biases)\n",
    "y_hat = tf.div(1.0, 1.0 + tf.exp(-z))\n",
    "y = train[:,-1]\n",
    "loss = -tf.reduce_mean((y*tf.log(y_hat) + (1-y)*tf.log(1-y_hat)))\n",
    "print(loss)\n",
    "train_step = tf.train.GradientDescentOptimizer(0).minimize(loss)"
   ]
  },
  {
   "cell_type": "code",
   "execution_count": 5,
   "metadata": {
    "collapsed": false
   },
   "outputs": [],
   "source": [
    "def get_data ():\n",
    "    with tf.Session() as sess:  \n",
    "        #sess.run(tf.global_variables_initializer())\n",
    "        coord = tf.train.Coordinator()  #创建一个协调器，管理线程 \n",
    "        threads = tf.train.start_queue_runners(coord=coord)\n",
    "        return sess.run([feature,y])\n"
   ]
  },
  {
   "cell_type": "code",
   "execution_count": 7,
   "metadata": {
    "collapsed": false
   },
   "outputs": [
    {
     "name": "stdout",
     "output_type": "stream",
     "text": [
      "0 th iteration done\n",
      "[[ 0.6032505 ]\n",
      " [-0.10646009]]\n",
      "40 th iteration done\n",
      "[[ 0.55708265]\n",
      " [-0.53097153]]\n",
      "80 th iteration done\n",
      "[[-0.70057344]\n",
      " [-0.65514827]]\n"
     ]
    }
   ],
   "source": [
    "with tf.Session() as sess:  \n",
    "    sess.run(tf.global_variables_initializer())\n",
    "    #coord = tf.train.Coordinator()  #创建一个协调器，管理线程 \n",
    "    #threads = tf.train.start_queue_runners(coord=coord)  #启动QueueRunner, 此时文件名队列已经进队。 \n",
    "    #saver = tf.train.Saver()\n",
    "    #ckpt = tf.train.get_checkpoint_state('./check/')\n",
    "    \"\"\"\n",
    "    if ckpt:\n",
    "        saver.restore(sess, tf.train.latest_checkpoint('./check/'))\n",
    "        print('loaded')\n",
    "    else:\n",
    "        tf.global_variables_initializer().run()\"\"\"\n",
    "with tf.Session() as sess:\n",
    "    for i in range(100):\n",
    "        if (i % 40 == 0):\n",
    "            print (i, \"th iteration done\")\n",
    "            #e_val = sess.run(loss)\n",
    "            #print(e_val)\n",
    "            print(sess.run(weights))\n",
    "            #print(sess.run(feature,y))\n",
    "            #sess.run(train_step)\n",
    "        \n",
    "    \n",
    "        if (i + 1) % 1000 == 0:\n",
    "            #saver.save(sess, './check/' + 'model'+ str(i) +'.ckpt',\n",
    "                           #global_step=i+1)\n",
    "        \n",
    "            \n",
    "            \n",
    "            print(1)\n",
    "    #coord.request_stop()  \n",
    "    #coord.join(threads)"
   ]
  },
  {
   "cell_type": "code",
   "execution_count": null,
   "metadata": {
    "collapsed": true
   },
   "outputs": [],
   "source": []
  },
  {
   "cell_type": "code",
   "execution_count": null,
   "metadata": {
    "collapsed": true
   },
   "outputs": [],
   "source": []
  }
 ],
 "metadata": {
  "kernelspec": {
   "display_name": "Python 3",
   "language": "python",
   "name": "python3"
  },
  "language_info": {
   "codemirror_mode": {
    "name": "ipython",
    "version": 3
   },
   "file_extension": ".py",
   "mimetype": "text/x-python",
   "name": "python",
   "nbconvert_exporter": "python",
   "pygments_lexer": "ipython3",
   "version": "3.5.2"
  }
 },
 "nbformat": 4,
 "nbformat_minor": 1
}
