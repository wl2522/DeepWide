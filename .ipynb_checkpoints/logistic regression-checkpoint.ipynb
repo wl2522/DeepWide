{
<<<<<<< HEAD
 "cells": [],
 "metadata": {},
=======
 "cells": [
  {
   "cell_type": "code",
   "execution_count": 1,
   "metadata": {
    "collapsed": true
   },
   "outputs": [],
   "source": [
    "import tensorflow as tf"
   ]
  },
  {
   "cell_type": "code",
   "execution_count": 2,
   "metadata": {
    "collapsed": false
   },
   "outputs": [],
   "source": [
    "x_queue = tf.train.string_input_producer([\"./train.csv\"])\n",
    "reader1 = tf.TextLineReader(skip_header_lines=1)\n",
    "\n",
    "keyx, valuex = reader1.read(x_queue)\n",
    "x = tf.decode_csv(\n",
    "    valuex, record_defaults=[[0.] for i in range(653)])\n",
    "\n"
   ]
  },
  {
   "cell_type": "code",
   "execution_count": 3,
   "metadata": {
    "collapsed": false
   },
   "outputs": [],
   "source": [
    "batch_size = 100\n",
    "min_after_dequeue = 1000\n",
    "capacity = min_after_dequeue + 3 * batch_size\n",
    "train= tf.train.batch([x],batch_size=10, capacity=capacity)"
   ]
  },
  {
   "cell_type": "code",
   "execution_count": 4,
   "metadata": {
    "collapsed": false
   },
   "outputs": [
    {
     "name": "stdout",
     "output_type": "stream",
     "text": [
      "Tensor(\"Neg_1:0\", shape=(), dtype=float32)\n"
     ]
    }
   ],
   "source": [
    "SEED = 66478\n",
    "\n",
    "weights = tf.Variable( tf.random_uniform([651,1], -1.0, 1.0))\n",
    "biases = tf.Variable(tf.zeros([1], dtype=\"float32\"))\n",
    "feature = train[:,1:-1]\n",
    "z = tf.add(tf.matmul(feature,weights),biases)\n",
    "y_hat = tf.squeeze(tf.div(1.0, 1.0 + tf.exp(-z)))\n",
    "y = train[:,-1]\n",
    "loss = -tf.reduce_mean((y*tf.log(y_hat) + (1-y)*tf.log(1-y_hat)))\n",
    "print(loss)\n",
    "train_step = tf.train.GradientDescentOptimizer(0.1).minimize(loss)"
   ]
  },
  {
   "cell_type": "code",
   "execution_count": 5,
   "metadata": {
    "collapsed": false
   },
   "outputs": [],
   "source": [
    "def get_data ():\n",
    "    with tf.Session() as sess:  \n",
    "        #sess.run(tf.global_variables_initializer())\n",
    "        coord = tf.train.Coordinator()  #创建一个协调器，管理线程 \n",
    "        threads = tf.train.start_queue_runners(coord=coord)\n",
    "        return sess.run([feature,y])\n"
   ]
  },
  {
   "cell_type": "code",
   "execution_count": 7,
   "metadata": {
    "collapsed": false
   },
   "outputs": [
    {
     "ename": "NameError",
     "evalue": "name 'ckpt' is not defined",
     "output_type": "error",
     "traceback": [
      "\u001b[0;31m---------------------------------------------------------------------------\u001b[0m",
      "\u001b[0;31mNameError\u001b[0m                                 Traceback (most recent call last)",
      "\u001b[0;32m<ipython-input-7-b21a33dd5403>\u001b[0m in \u001b[0;36m<module>\u001b[0;34m()\u001b[0m\n\u001b[1;32m     12\u001b[0m         tf.global_variables_initializer().run()\"\"\"\n\u001b[1;32m     13\u001b[0m \u001b[0;32mwith\u001b[0m \u001b[0mtf\u001b[0m\u001b[0;34m.\u001b[0m\u001b[0mSession\u001b[0m\u001b[0;34m(\u001b[0m\u001b[0;34m)\u001b[0m \u001b[0;32mas\u001b[0m \u001b[0msess\u001b[0m\u001b[0;34m:\u001b[0m\u001b[0;34m\u001b[0m\u001b[0m\n\u001b[0;32m---> 14\u001b[0;31m     \u001b[0;32mif\u001b[0m \u001b[0mckpt\u001b[0m\u001b[0;34m:\u001b[0m\u001b[0;34m\u001b[0m\u001b[0m\n\u001b[0m\u001b[1;32m     15\u001b[0m         \u001b[0msaver\u001b[0m\u001b[0;34m.\u001b[0m\u001b[0mrestore\u001b[0m\u001b[0;34m(\u001b[0m\u001b[0msess\u001b[0m\u001b[0;34m,\u001b[0m \u001b[0mtf\u001b[0m\u001b[0;34m.\u001b[0m\u001b[0mtrain\u001b[0m\u001b[0;34m.\u001b[0m\u001b[0mlatest_checkpoint\u001b[0m\u001b[0;34m(\u001b[0m\u001b[0;34m'./check/'\u001b[0m\u001b[0;34m)\u001b[0m\u001b[0;34m)\u001b[0m\u001b[0;34m\u001b[0m\u001b[0m\n\u001b[1;32m     16\u001b[0m         \u001b[0mprint\u001b[0m\u001b[0;34m(\u001b[0m\u001b[0;34m'loaded'\u001b[0m\u001b[0;34m)\u001b[0m\u001b[0;34m\u001b[0m\u001b[0m\n",
      "\u001b[0;31mNameError\u001b[0m: name 'ckpt' is not defined"
     ]
    }
   ],
   "source": [
    "with tf.Session() as sess:  \n",
    "    sess.run(tf.global_variables_initializer())\n",
    "    #coord = tf.train.Coordinator()  #创建一个协调器，管理线程 \n",
    "    #threads = tf.train.start_queue_runners(coord=coord)  #启动QueueRunner, 此时文件名队列已经进队。 \n",
    "    #saver = tf.train.Saver()\n",
    "    #ckpt = tf.train.get_checkpoint_state('./check/')\n",
    "    \"\"\"\n",
    "    if ckpt:\n",
    "        saver.restore(sess, tf.train.latest_checkpoint('./check/'))\n",
    "        print('loaded')\n",
    "    else:\n",
    "        tf.global_variables_initializer().run()\"\"\"\n",
    "with tf.Session() as sess:\n",
    "    ckpt = tf.train.get_checkpoint_state('./check/')\n",
    "    if ckpt:\n",
    "        saver.restore(sess, tf.train.latest_checkpoint('./check/'))\n",
    "        print('loaded')\n",
    "    else:\n",
    "        tf.global_variables_initializer().run()\n",
    "    #sess.run(tf.global_variables_initializer())\n",
    "    coord = tf.train.Coordinator()  #创建一个协调器，管理线程 \n",
    "    threads = tf.train.start_queue_runners(coord=coord)  #启动QueueRunner, 此时文件名队列已经进队。 \n",
    "    for i in range(100000):\n",
    "        if (i % 40 == 0):\n",
    "            print (i, \"th iteration done\")\n",
    "            e_val = sess.run(loss)\n",
    "            print(e_val)\n",
    "            #print(sess.run(weights))\n",
    "            a,b,c = sess.run([feature,y,y_hat])\n",
    "            print(a,b,c)\n",
    "            sess.run(train_step)\n",
    "        \n",
    "    \n",
    "        if (i + 1) % 1000 == 0:\n",
    "            saver.save(sess, './check/' + 'model'+ str(i) +'.ckpt',\n",
    "                           global_step=i+1)\n",
    "        \n",
    "            \n",
    "            \n",
    "            print(1)\n",
    "    coord.request_stop()  \n",
    "    coord.join(threads)"
   ]
  },
  {
   "cell_type": "code",
   "execution_count": null,
   "metadata": {
    "collapsed": true
   },
   "outputs": [],
   "source": []
  },
  {
   "cell_type": "code",
   "execution_count": null,
   "metadata": {
    "collapsed": true
   },
   "outputs": [],
   "source": []
  }
 ],
 "metadata": {
  "kernelspec": {
   "display_name": "Python 3",
   "language": "python",
   "name": "python3"
  },
  "language_info": {
   "codemirror_mode": {
    "name": "ipython",
    "version": 3
   },
   "file_extension": ".py",
   "mimetype": "text/x-python",
   "name": "python",
   "nbconvert_exporter": "python",
   "pygments_lexer": "ipython3",
   "version": "3.5.2"
  }
 },
>>>>>>> Xuxuan
 "nbformat": 4,
 "nbformat_minor": 1
}
